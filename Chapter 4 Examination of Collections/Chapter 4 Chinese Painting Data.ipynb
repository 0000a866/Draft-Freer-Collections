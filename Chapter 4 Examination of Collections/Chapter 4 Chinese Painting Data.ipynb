{
 "cells": [
  {
   "cell_type": "markdown",
   "id": "c3dd9e2e-f8e0-4eac-9904-1674f85dbc11",
   "metadata": {},
   "source": [
    "### The Material and Type of Chinese Paintings"
   ]
  },
  {
   "cell_type": "code",
   "execution_count": 2,
   "id": "2a03e28d-b046-4458-8b79-86f55103d345",
   "metadata": {},
   "outputs": [
    {
     "name": "stdout",
     "output_type": "stream",
     "text": [
      "                           Name  \\\n",
      "168  Luohans crossing the water   \n",
      "170  Wang Xizhi inscribing fans   \n",
      "171                 A Bay horse   \n",
      "172     Dappled horse and groom   \n",
      "173           A man and a woman   \n",
      "\n",
      "                                            Provenance  \\\n",
      "168  Sung: 0 - 1911\\nCharles Lang Freer (1854-1919)...   \n",
      "170  Sung: 0 - 1911\\nCharles Lang Freer (1854-1919)...   \n",
      "171  Sung: 0 - 1911\\nCharles Lang Freer (1854-1919)...   \n",
      "172  Sung: 0 - 1911\\nCharles Lang Freer (1854-1919)...   \n",
      "173  Sung: 0 - 1911\\nCharles Lang Freer (1854-1919)...   \n",
      "\n",
      "                           Previous custodian or owner      Type     Period  \\\n",
      "168  Sung (C.L. Freer source)\\nCharles Lang Freer (...  Painting  1644-1911   \n",
      "170  Sung (C.L. Freer source)\\nCharles Lang Freer (...  Painting  1644-1911   \n",
      "171  Sung (C.L. Freer source)\\nCharles Lang Freer (...  Painting  1644-1911   \n",
      "172  Sung (C.L. Freer source)\\nCharles Lang Freer (...  Painting  1644-1911   \n",
      "173  Sung (C.L. Freer source)\\nCharles Lang Freer (...  Painting  1644-1911   \n",
      "\n",
      "          Dynasty Geography               Material  \\\n",
      "168  Qing Dynasty     China  Ink and color on silk   \n",
      "170  Qing Dynasty     China            Ink on silk   \n",
      "171  Qing Dynasty     China  Ink and color on silk   \n",
      "172  Qing Dynasty     China  Ink and color on silk   \n",
      "173  Qing Dynasty     China            Ink on silk   \n",
      "\n",
      "                                             Dimension  \\\n",
      "168  H x W (image): 24.4 x 94.6 cm (9 5/8 x 37 1/4 in)   \n",
      "170  H x W (image): 21.5 x 20.5 cm (8 7/16 x 8 1/16...   \n",
      "171  H x W (image): 24.5 x 27.5 cm (9 5/8 x 10 13/1...   \n",
      "172  H x W (image): 24.5 x 27.5 cm (9 5/8 x 10 13/1...   \n",
      "173  H x W (image): 21.5 x 20.4 cm (8 7/16 x 8 1/16...   \n",
      "\n",
      "                    EDAN ID  Purchase_Year Province Specific Location  \n",
      "168   edanmdm:fsg_F1911.211         1911.0      NaN               NaN  \n",
      "170  edanmdm:fsg_F1911.156e         1911.0      NaN               NaN  \n",
      "171  edanmdm:fsg_F1911.154c         1911.0      NaN               NaN  \n",
      "172  edanmdm:fsg_F1911.154a         1911.0      NaN               NaN  \n",
      "173  edanmdm:fsg_F1911.156d         1911.0      NaN               NaN  \n",
      "['Ink and color on silk' 'Ink on silk' 'Ink and color on paper'\n",
      " 'Ink and strong color on silk panel' 'Ink on paper'\n",
      " 'Album leaf; ink on silk'\n",
      " 'Hanging scroll mounted on panel; ink and color on silk'\n",
      " 'Ink, color, and traces of gold on silk' 'Color on silk panel'\n",
      " 'Ink an color on silk' 'Hanging scroll mounted on panel; ink on silk'\n",
      " 'Hanging scroll mounted on panel; ink and color on paper' 'Color on silk'\n",
      " 'Ink and color on silk panel' 'Hanging scroll; ink and color on silk'\n",
      " 'Ink on silk panel' 'Hanging scroll; ink on silk'\n",
      " 'Ink on gold-flecked paper' 'ink and color on silk'\n",
      " 'Ink, color, and gold on silk' 'Ik and color on silk'\n",
      " 'Album leaf; ink and color on paper' 'Ink and tint on silk'\n",
      " 'Ink and watercolor on silk' 'Ink and slight color on silk'\n",
      " 'Color on paper' 'Ink and color on silk, mounted on panel'\n",
      " 'Ink and color on satin'\n",
      " 'Fan mounted as album leaf; ink and color on silk'\n",
      " 'Hanging scroll; ink and color on paper'\n",
      " 'nk and color on silk Ink and color on silk'\n",
      " 'Hanging scroll mounted on panel; ink on paper' 'Color on paper panel'\n",
      " 'Ink on gold paper' 'Gold ink on dark blue paper' 'Gold on blue paper'\n",
      " 'Ink on leaves' 'Color and gold on silk' 'Gold and color on blue paper'\n",
      " 'Color, ink and gold on silk' 'Ink and gold on blue paper']\n"
     ]
    }
   ],
   "source": [
    "import pandas as pd\n",
    "\n",
    "# 读取Excel文件\n",
    "china_collections_df = pd.read_excel('Final_Chinese_Collections.xlsx')\n",
    "\n",
    "# 筛选Type为'Painting'的记录\n",
    "paintings_df = china_collections_df[china_collections_df['Type'] == 'Painting']\n",
    "\n",
    "# 查看筛选后的数据框的前几行\n",
    "print(paintings_df.head())\n",
    "\n",
    "# 查看所有‘Painting’的材质\n",
    "materials_of_paintings = paintings_df['Material'].unique()\n",
    "print(materials_of_paintings)\n"
   ]
  },
  {
   "cell_type": "markdown",
   "id": "ec50aa3e-8b21-4341-81e2-35d3175a0088",
   "metadata": {},
   "source": [
    "### Titles of Paintings"
   ]
  },
  {
   "cell_type": "code",
   "execution_count": 3,
   "id": "92cedbe8-11df-4f86-9ad1-0aa21f20a202",
   "metadata": {},
   "outputs": [
    {
     "name": "stdout",
     "output_type": "stream",
     "text": [
      "Unigram Frequency:\n",
      "圖: 63\n",
      "像: 11\n",
      "山: 8\n",
      "雪: 7\n",
      "冊: 6\n",
      "頁: 6\n",
      "明: 5\n",
      "行: 5\n",
      "尊: 5\n",
      "水: 5\n",
      "清: 5\n",
      "旅: 4\n",
      "者: 4\n",
      "松: 4\n",
      "庭: 3\n",
      "嬰: 3\n",
      "戯: 3\n",
      "貨: 3\n",
      "郎: 3\n",
      "蜀: 3\n",
      "童: 3\n",
      "羅: 3\n",
      "漢: 3\n",
      "湖: 3\n",
      "秋: 3\n",
      "陰: 3\n",
      "棧: 2\n",
      "達: 2\n",
      "摩: 2\n",
      "半: 2\n",
      "託: 2\n",
      "迦: 2\n",
      "王: 2\n",
      "戲: 2\n",
      "廬: 2\n",
      "媚: 2\n",
      "娘: 2\n",
      "景: 2\n",
      "千: 2\n",
      "觀: 2\n",
      "軸: 2\n",
      "消: 2\n",
      "夏: 2\n",
      "阿: 2\n",
      "墨: 2\n",
      "竹: 2\n",
      "月: 2\n",
      "騎: 2\n",
      "樓: 2\n",
      "避: 2\n",
      "暑: 2\n",
      "江: 2\n",
      "道: 2\n",
      "天: 2\n",
      "牧: 2\n",
      "牛: 2\n",
      "橋: 2\n",
      "堂: 2\n",
      "院: 1\n",
      "提: 1\n",
      "婆: 1\n",
      "解: 1\n",
      "鞍: 1\n",
      "調: 1\n",
      "箭: 1\n",
      "子: 1\n",
      "跳: 1\n",
      "繩: 1\n",
      "梅: 1\n",
      "二: 1\n",
      "冬: 1\n",
      "拂: 1\n",
      "塵: 1\n",
      "佚: 1\n",
      "名: 1\n",
      "手: 1\n",
      "眼: 1\n",
      "世: 1\n",
      "音: 1\n",
      "菩: 1\n",
      "薩: 1\n",
      "莊: 1\n",
      "塢: 1\n",
      "幽: 1\n",
      "居: 1\n",
      "攜: 1\n",
      "琴: 1\n",
      "仙: 1\n",
      "辛: 1\n",
      "毗: 1\n",
      "引: 1\n",
      "裾: 1\n",
      "大: 1\n",
      "下: 1\n",
      "元: 1\n",
      "官: 1\n",
      "氏: 1\n",
      "多: 1\n",
      "杉: 1\n",
      "仿: 1\n",
      "郭: 1\n",
      "熙: 1\n",
      "五: 1\n",
      "洞: 1\n",
      "華: 1\n",
      "嶽: 1\n",
      "睛: 1\n",
      "嵐: 1\n",
      "獵: 1\n",
      "驢: 1\n",
      "運: 1\n",
      "滕: 1\n",
      "閣: 1\n",
      "岳: 1\n",
      "陽: 1\n",
      "峩: 1\n",
      "眉: 1\n",
      "積: 1\n",
      "洛: 1\n",
      "神: 1\n",
      "溪: 1\n",
      "獨: 1\n",
      "釣: 1\n",
      "雲: 1\n",
      "起: 1\n",
      "亭: 1\n",
      "遊: 1\n",
      "覽: 1\n",
      "桃: 1\n",
      "菊: 1\n",
      "漁: 1\n",
      "樂: 1\n",
      "論: 1\n",
      "待: 1\n",
      "渡: 1\n",
      "太: 1\n",
      "乙: 1\n",
      "救: 1\n",
      "苦: 1\n",
      "麓: 1\n",
      "早: 1\n",
      "柳: 1\n",
      "蔭: 1\n",
      "台: 1\n",
      "石: 1\n",
      "春: 1\n",
      "游: 1\n",
      "谿: 1\n",
      "霽: 1\n",
      "寶: 1\n",
      "繪: 1\n",
      "鍾: 1\n",
      "離: 1\n",
      "訪: 1\n",
      "汴: 1\n",
      "會: 1\n",
      "盟: 1\n",
      "重: 1\n",
      "屏: 1\n",
      "洗: 1\n",
      "濯: 1\n",
      "川: 1\n",
      "有: 1\n",
      "美: 1\n",
      "長: 1\n",
      "萬: 1\n",
      "里: 1\n",
      "豳: 1\n",
      "風: 1\n",
      "七: 1\n",
      "陶: 1\n",
      "淵: 1\n",
      "歸: 1\n",
      "隱: 1\n",
      "西: 1\n",
      "趣: 1\n"
     ]
    }
   ],
   "source": [
    "from collections import Counter\n",
    "import re\n",
    "\n",
    "# 选出 Type 列为 \"Painting\" 的行\n",
    "paintings_df = china_collections_df[china_collections_df['Type'] == 'Painting']\n",
    "\n",
    "# 分词函数，生成 Unigram 和 Bigram\n",
    "def generate_ngrams(text, n):\n",
    "    # 只保留中文字符\n",
    "    chinese_text = ''.join(re.findall(r'[\\u4e00-\\u9fff]', text))\n",
    "    tokens = list(chinese_text)\n",
    "    ngrams = zip(*[tokens[i:] for i in range(n)])\n",
    "    return [\"\".join(ngram) for ngram in ngrams]\n",
    "\n",
    "# 统计 Unigram 和 Bigram 的频次\n",
    "unigram_counter = Counter()\n",
    "bigram_counter = Counter()\n",
    "\n",
    "for name in paintings_df['Name']:\n",
    "    unigrams = generate_ngrams(name, 1)\n",
    "    bigrams = generate_ngrams(name, 2)\n",
    "    \n",
    "    unigram_counter.update(unigrams)\n",
    "    bigram_counter.update(bigrams)\n",
    "\n",
    "# 打印 Unigram 频次\n",
    "print(\"Unigram Frequency:\")\n",
    "for unigram, freq in unigram_counter.most_common():\n",
    "    print(f\"{unigram}: {freq}\")\n",
    "\n",
    "\n"
   ]
  },
  {
   "cell_type": "code",
   "execution_count": 4,
   "id": "7380c117-952d-4236-8b66-867f99ca127b",
   "metadata": {},
   "outputs": [
    {
     "name": "stdout",
     "output_type": "stream",
     "text": [
      "\n",
      "Bigram Frequency:\n",
      "圖冊: 6\n",
      "冊頁: 6\n",
      "尊者: 4\n",
      "者像: 4\n",
      "水圖: 4\n",
      "戯圖: 3\n",
      "貨郎: 3\n",
      "郎圖: 3\n",
      "行圖: 3\n",
      "山水: 3\n",
      "羅漢: 3\n",
      "松陰: 3\n",
      "嬰戯: 2\n",
      "蜀棧: 2\n",
      "棧旅: 2\n",
      "旅行: 2\n",
      "達摩: 2\n",
      "摩圖: 2\n",
      "圖像: 2\n",
      "半託: 2\n",
      "託迦: 2\n",
      "迦尊: 2\n",
      "廬媚: 2\n",
      "媚娘: 2\n",
      "娘像: 2\n",
      "消夏: 2\n",
      "夏圖: 2\n",
      "墨竹: 2\n",
      "竹圖: 2\n",
      "行旅: 2\n",
      "旅圖: 2\n",
      "月圖: 2\n",
      "騎圖: 2\n",
      "雪山: 2\n",
      "樓圖: 2\n",
      "陰避: 2\n",
      "避暑: 2\n",
      "暑圖: 2\n",
      "道圖: 2\n",
      "牧牛: 2\n",
      "牛圖: 2\n",
      "堂圖: 2\n",
      "明庭: 1\n",
      "庭院: 1\n",
      "院嬰: 1\n",
      "明貨: 1\n",
      "提婆: 1\n",
      "婆王: 1\n",
      "王圖: 1\n",
      "解鞍: 1\n",
      "鞍調: 1\n",
      "調箭: 1\n",
      "箭圖: 1\n",
      "嬰戲: 1\n",
      "戲貨: 1\n",
      "清童: 1\n",
      "童子: 1\n",
      "子跳: 1\n",
      "跳繩: 1\n",
      "繩圖: 1\n",
      "清貨: 1\n",
      "雪梅: 1\n",
      "梅圖: 1\n",
      "清二: 1\n",
      "二童: 1\n",
      "童庭: 1\n",
      "庭戯: 1\n",
      "冬景: 1\n",
      "景山: 1\n",
      "拂塵: 1\n",
      "塵羅: 1\n",
      "漢像: 1\n",
      "明佚: 1\n",
      "佚名: 1\n",
      "名千: 1\n",
      "千手: 1\n",
      "手千: 1\n",
      "千眼: 1\n",
      "眼觀: 1\n",
      "觀世: 1\n",
      "世音: 1\n",
      "音菩: 1\n",
      "菩薩: 1\n",
      "薩像: 1\n",
      "像軸: 1\n",
      "湖莊: 1\n",
      "莊消: 1\n",
      "明嬰: 1\n",
      "圖軸: 1\n",
      "雪塢: 1\n",
      "塢幽: 1\n",
      "幽居: 1\n",
      "居圖: 1\n",
      "攜琴: 1\n",
      "琴仙: 1\n",
      "仙觀: 1\n",
      "觀圖: 1\n",
      "辛毗: 1\n",
      "毗引: 1\n",
      "引裾: 1\n",
      "裾圖: 1\n",
      "大阿: 1\n",
      "阿羅: 1\n",
      "漢尊: 1\n",
      "下元: 1\n",
      "元水: 1\n",
      "水官: 1\n",
      "官圖: 1\n",
      "阿氏: 1\n",
      "氏多: 1\n",
      "多尊: 1\n",
      "松杉: 1\n",
      "杉行: 1\n",
      "仿郭: 1\n",
      "郭熙: 1\n",
      "熙雪: 1\n",
      "雪景: 1\n",
      "景圖: 1\n",
      "清五: 1\n",
      "五童: 1\n",
      "童戲: 1\n",
      "戲水: 1\n",
      "洞庭: 1\n",
      "庭秋: 1\n",
      "秋月: 1\n",
      "華嶽: 1\n",
      "嶽睛: 1\n",
      "睛嵐: 1\n",
      "嵐圖: 1\n",
      "獵騎: 1\n",
      "山驢: 1\n",
      "驢運: 1\n",
      "運圖: 1\n",
      "滕王: 1\n",
      "王閣: 1\n",
      "閣圖: 1\n",
      "岳陽: 1\n",
      "陽樓: 1\n",
      "峩眉: 1\n",
      "眉積: 1\n",
      "積雪: 1\n",
      "雪圖: 1\n",
      "洛神: 1\n",
      "神圖: 1\n",
      "溪山: 1\n",
      "山獨: 1\n",
      "獨釣: 1\n",
      "釣圖: 1\n",
      "雲起: 1\n",
      "起樓: 1\n",
      "湖亭: 1\n",
      "亭遊: 1\n",
      "遊覽: 1\n",
      "覽圖: 1\n",
      "桃菊: 1\n",
      "菊圖: 1\n",
      "秋江: 1\n",
      "江漁: 1\n",
      "漁樂: 1\n",
      "樂圖: 1\n",
      "陰論: 1\n",
      "論道: 1\n",
      "待渡: 1\n",
      "渡圖: 1\n",
      "山行: 1\n",
      "太乙: 1\n",
      "乙救: 1\n",
      "救苦: 1\n",
      "苦天: 1\n",
      "天尊: 1\n",
      "尊像: 1\n",
      "雪麓: 1\n",
      "麓早: 1\n",
      "早行: 1\n",
      "柳蔭: 1\n",
      "蔭牧: 1\n",
      "天台: 1\n",
      "台石: 1\n",
      "石橋: 1\n",
      "橋圖: 1\n",
      "春山: 1\n",
      "山游: 1\n",
      "游騎: 1\n",
      "谿山: 1\n",
      "山秋: 1\n",
      "秋霽: 1\n",
      "霽圖: 1\n",
      "寶繪: 1\n",
      "繪堂: 1\n",
      "鍾離: 1\n",
      "離訪: 1\n",
      "訪道: 1\n",
      "汴橋: 1\n",
      "橋會: 1\n",
      "會盟: 1\n",
      "盟圖: 1\n",
      "重屏: 1\n",
      "屏圖: 1\n",
      "漢洗: 1\n",
      "洗濯: 1\n",
      "濯圖: 1\n",
      "蜀川: 1\n",
      "川圖: 1\n",
      "有美: 1\n",
      "美堂: 1\n",
      "長江: 1\n",
      "江萬: 1\n",
      "萬里: 1\n",
      "里圖: 1\n",
      "豳風: 1\n",
      "風七: 1\n",
      "七月: 1\n",
      "陶淵: 1\n",
      "淵明: 1\n",
      "明歸: 1\n",
      "歸隱: 1\n",
      "隱圖: 1\n",
      "西湖: 1\n",
      "湖清: 1\n",
      "清趣: 1\n",
      "趣圖: 1\n"
     ]
    }
   ],
   "source": [
    "# Show the frequency of Bigram \n",
    "print(\"\\nBigram Frequency:\")\n",
    "for bigram, freq in bigram_counter.most_common():\n",
    "    print(f\"{bigram}: {freq}\")"
   ]
  },
  {
   "cell_type": "code",
   "execution_count": 5,
   "id": "53982ebd-bc47-4f0b-a529-8cc0991b2c35",
   "metadata": {},
   "outputs": [
    {
     "name": "stdout",
     "output_type": "stream",
     "text": [
      "Trigram Frequency:\n",
      "圖冊頁: 6\n",
      "尊者像: 4\n",
      "貨郎圖: 3\n",
      "山水圖: 3\n",
      "嬰戯圖: 2\n",
      "戯圖冊: 2\n",
      "郎圖冊: 2\n",
      "蜀棧旅: 2\n",
      "棧旅行: 2\n",
      "旅行圖: 2\n",
      "達摩圖: 2\n",
      "摩圖像: 2\n",
      "半託迦: 2\n",
      "託迦尊: 2\n",
      "迦尊者: 2\n",
      "廬媚娘: 2\n",
      "媚娘像: 2\n",
      "消夏圖: 2\n",
      "墨竹圖: 2\n",
      "行旅圖: 2\n",
      "松陰避: 2\n",
      "陰避暑: 2\n",
      "避暑圖: 2\n",
      "牧牛圖: 2\n",
      "明庭院: 1\n",
      "庭院嬰: 1\n",
      "院嬰戯: 1\n",
      "明貨郎: 1\n",
      "提婆王: 1\n",
      "婆王圖: 1\n",
      "解鞍調: 1\n",
      "鞍調箭: 1\n",
      "調箭圖: 1\n",
      "嬰戲貨: 1\n",
      "戲貨郎: 1\n",
      "清童子: 1\n",
      "童子跳: 1\n",
      "子跳繩: 1\n",
      "跳繩圖: 1\n",
      "繩圖冊: 1\n",
      "清貨郎: 1\n",
      "雪梅圖: 1\n",
      "清二童: 1\n",
      "二童庭: 1\n",
      "童庭戯: 1\n",
      "庭戯圖: 1\n",
      "冬景山: 1\n",
      "景山水: 1\n",
      "拂塵羅: 1\n",
      "塵羅漢: 1\n",
      "羅漢像: 1\n",
      "明佚名: 1\n",
      "佚名千: 1\n",
      "名千手: 1\n",
      "千手千: 1\n",
      "手千眼: 1\n",
      "千眼觀: 1\n",
      "眼觀世: 1\n",
      "觀世音: 1\n",
      "世音菩: 1\n",
      "音菩薩: 1\n",
      "菩薩像: 1\n",
      "薩像軸: 1\n",
      "湖莊消: 1\n",
      "莊消夏: 1\n",
      "明嬰戯: 1\n",
      "戯圖軸: 1\n",
      "雪塢幽: 1\n",
      "塢幽居: 1\n",
      "幽居圖: 1\n",
      "攜琴仙: 1\n",
      "琴仙觀: 1\n",
      "仙觀圖: 1\n",
      "辛毗引: 1\n",
      "毗引裾: 1\n",
      "引裾圖: 1\n",
      "大阿羅: 1\n",
      "阿羅漢: 1\n",
      "羅漢尊: 1\n",
      "漢尊者: 1\n",
      "下元水: 1\n",
      "元水官: 1\n",
      "水官圖: 1\n",
      "阿氏多: 1\n",
      "氏多尊: 1\n",
      "多尊者: 1\n",
      "松杉行: 1\n",
      "杉行旅: 1\n",
      "仿郭熙: 1\n",
      "郭熙雪: 1\n",
      "熙雪景: 1\n",
      "雪景圖: 1\n",
      "清五童: 1\n",
      "五童戲: 1\n",
      "童戲水: 1\n",
      "戲水圖: 1\n",
      "水圖冊: 1\n",
      "洞庭秋: 1\n",
      "庭秋月: 1\n",
      "秋月圖: 1\n",
      "華嶽睛: 1\n",
      "嶽睛嵐: 1\n",
      "睛嵐圖: 1\n",
      "獵騎圖: 1\n",
      "雪山驢: 1\n",
      "山驢運: 1\n",
      "驢運圖: 1\n",
      "滕王閣: 1\n",
      "王閣圖: 1\n",
      "岳陽樓: 1\n",
      "陽樓圖: 1\n",
      "峩眉積: 1\n",
      "眉積雪: 1\n",
      "積雪圖: 1\n",
      "洛神圖: 1\n",
      "溪山獨: 1\n",
      "山獨釣: 1\n",
      "獨釣圖: 1\n",
      "雲起樓: 1\n",
      "起樓圖: 1\n",
      "湖亭遊: 1\n",
      "亭遊覽: 1\n",
      "遊覽圖: 1\n",
      "桃菊圖: 1\n",
      "秋江漁: 1\n",
      "江漁樂: 1\n",
      "漁樂圖: 1\n",
      "松陰論: 1\n",
      "陰論道: 1\n",
      "論道圖: 1\n",
      "待渡圖: 1\n",
      "雪山行: 1\n",
      "山行旅: 1\n",
      "太乙救: 1\n",
      "乙救苦: 1\n",
      "救苦天: 1\n",
      "苦天尊: 1\n",
      "天尊像: 1\n",
      "雪麓早: 1\n",
      "麓早行: 1\n",
      "早行圖: 1\n",
      "柳蔭牧: 1\n",
      "蔭牧牛: 1\n",
      "天台石: 1\n",
      "台石橋: 1\n",
      "石橋圖: 1\n",
      "春山游: 1\n",
      "山游騎: 1\n",
      "游騎圖: 1\n",
      "谿山秋: 1\n",
      "山秋霽: 1\n",
      "秋霽圖: 1\n",
      "寶繪堂: 1\n",
      "繪堂圖: 1\n",
      "鍾離訪: 1\n",
      "離訪道: 1\n",
      "訪道圖: 1\n",
      "汴橋會: 1\n",
      "橋會盟: 1\n",
      "會盟圖: 1\n",
      "重屏圖: 1\n",
      "羅漢洗: 1\n",
      "漢洗濯: 1\n",
      "洗濯圖: 1\n",
      "蜀川圖: 1\n",
      "有美堂: 1\n",
      "美堂圖: 1\n",
      "長江萬: 1\n",
      "江萬里: 1\n",
      "萬里圖: 1\n",
      "豳風七: 1\n",
      "風七月: 1\n",
      "七月圖: 1\n",
      "陶淵明: 1\n",
      "淵明歸: 1\n",
      "明歸隱: 1\n",
      "歸隱圖: 1\n",
      "西湖清: 1\n",
      "湖清趣: 1\n",
      "清趣圖: 1\n"
     ]
    }
   ],
   "source": [
    "# Show the frequency of Trigram \n",
    "\n",
    "trigram_counter = Counter()\n",
    "\n",
    "for name in paintings_df['Name']:\n",
    "    trigrams = generate_ngrams(name, 3)\n",
    "    \n",
    "    \n",
    "    trigram_counter.update(trigrams)\n",
    "    \n",
    "\n",
    "# 打印 Unigram 频次\n",
    "print(\"Trigram Frequency:\")\n",
    "for trigram, freq in trigram_counter.most_common():\n",
    "    print(f\"{trigram}: {freq}\")\n",
    "\n"
   ]
  },
  {
   "cell_type": "code",
   "execution_count": 18,
   "id": "0cd55b81-9a9c-4e57-82cb-1cf5c1a4df51",
   "metadata": {},
   "outputs": [
    {
     "name": "stdout",
     "output_type": "stream",
     "text": [
      "Token Frequency:\n",
      "landscape: 133\n",
      "river: 66\n",
      "mountains: 59\n",
      "two: 56\n",
      "flowers: 52\n",
      "mountain: 50\n",
      "birds: 44\n",
      "man: 39\n",
      "pavilion: 38\n",
      "trees: 38\n",
      "luohan: 36\n",
      "water: 34\n",
      "winter: 33\n",
      "tree: 28\n",
      "stream: 27\n",
      "bamboo: 26\n",
      "pines: 23\n",
      "palace: 23\n",
      "plum: 23\n",
      "seated: 22\n",
      "luohans: 21\n",
      "branch: 21\n",
      "ducks: 21\n",
      "travelers: 21\n",
      "boat: 21\n",
      "horse: 20\n",
      "rocks: 20\n",
      "snow: 20\n",
      "autumn: 19\n",
      "crossing: 18\n",
      "attendant: 18\n",
      "blossoms: 18\n",
      "pine: 17\n",
      "standing: 16\n",
      "men: 15\n",
      "bird: 15\n",
      "fishing: 15\n",
      "woman: 14\n",
      "garden: 14\n",
      "horses: 13\n",
      "figures: 13\n",
      "clouds: 13\n",
      "gorge: 13\n",
      "playing: 13\n",
      "snowy: 13\n",
      "figure: 13\n",
      "houses: 13\n",
      "willow: 13\n",
      "dragon: 12\n",
      "fruit: 12\n",
      "li: 12\n",
      "guanyin: 12\n",
      "portrait: 12\n",
      "flowering: 12\n",
      "among: 12\n",
      "bridge: 12\n",
      "white: 12\n",
      "immortal: 12\n",
      "hills: 12\n",
      "house: 12\n",
      "rock: 11\n",
      "gathering: 11\n",
      "three: 11\n",
      "waterfall: 11\n",
      "palaces: 11\n",
      "geese: 11\n",
      "peaks: 10\n",
      "lake: 10\n",
      "insects: 10\n",
      "mounted: 10\n",
      "five: 9\n",
      "peonies: 9\n",
      "buildings: 9\n",
      "lion: 9\n",
      "ladies: 9\n",
      "zither: 9\n",
      "scenes: 9\n",
      "returning: 9\n",
      "moon: 8\n",
      "tartar: 8\n",
      "shore: 8\n",
      "rain: 8\n",
      "sea: 8\n",
      "gazing: 8\n",
      "'s: 8\n",
      "misty: 8\n",
      "mandarin: 8\n",
      "brook: 8\n",
      "eighteen: 8\n",
      "boats: 8\n",
      "attendants: 8\n",
      "buffalo: 8\n",
      "blue: 8\n",
      "ferry: 8\n",
      "traveling: 8\n",
      "clearing: 8\n",
      "scholar: 7\n",
      "boy: 7\n",
      "tiger: 7\n",
      "su: 7\n",
      "riverside: 7\n",
      "cliff: 7\n",
      "temple: 7\n",
      "elephant: 7\n",
      "green: 7\n",
      "bamboos: 7\n",
      "children: 7\n",
      "reading: 7\n",
      "cliffs: 7\n",
      "blossoming: 7\n",
      "pair: 7\n",
      "home: 7\n",
      "scholars: 7\n",
      "valley: 7\n",
      "leaf: 7\n",
      "female: 7\n",
      "fan: 7\n",
      "venerable: 7\n",
      "waterside: 7\n",
      "enjoying: 7\n",
      "immortals: 7\n",
      "groom: 6\n",
      "parting: 6\n",
      "orchid: 6\n",
      "looking: 6\n",
      "sun: 6\n",
      "watching: 6\n",
      "calf: 6\n",
      "quail: 6\n",
      "streams: 6\n",
      "mist: 6\n",
      "young: 6\n",
      "camellias: 6\n",
      "sakyamuni: 6\n",
      "overhanging: 6\n",
      "foreground: 6\n",
      "phoenixes: 6\n",
      "emperor: 6\n",
      "spring: 6\n",
      "album: 6\n",
      "buddha: 6\n",
      "rocky: 6\n",
      "distant: 6\n",
      "imperial: 6\n",
      "daoist: 5\n",
      "wu: 5\n",
      "ling: 5\n",
      "near: 5\n",
      "wei: 5\n",
      "walking: 5\n",
      "lotus: 5\n",
      "leaves: 5\n",
      "qin: 5\n",
      "searching: 5\n",
      "xi: 5\n",
      "lives: 5\n",
      "famous: 5\n",
      "vase: 5\n",
      "magpies: 5\n",
      "horseback: 5\n",
      "eight: 5\n",
      "upon: 5\n",
      "tall: 5\n",
      "riverscape: 5\n",
      "spray: 5\n",
      "horseman: 5\n",
      "deer: 5\n",
      "boys: 5\n",
      "scene: 5\n",
      "waiting: 5\n",
      "moonlight: 5\n",
      "riding: 5\n",
      "cai: 5\n",
      "wenji: 5\n",
      "leafless: 5\n",
      "pavilions: 5\n",
      "along: 5\n",
      "mount: 5\n",
      "wang: 4\n",
      "dappled: 4\n",
      "hundred: 4\n",
      "tao: 4\n",
      "yuanming: 4\n",
      "lady: 4\n",
      "water-buffalo: 4\n",
      "festival: 4\n",
      "cranes: 4\n",
      "new: 4\n",
      "year: 4\n",
      "cormorants: 4\n",
      "morning: 4\n",
      "reeds: 4\n",
      "wind: 4\n",
      "life: 4\n",
      "part: 4\n",
      "lü: 4\n",
      "dongbin: 4\n",
      "hawk: 4\n",
      "holding: 4\n",
      "ravine: 4\n",
      "liu: 4\n",
      "hai: 4\n",
      "bodhisattva: 4\n",
      "boating: 4\n",
      "lohan: 4\n",
      "toad: 4\n",
      "pheasants: 4\n",
      "visiting: 4\n",
      "pond: 4\n",
      "hibiscus: 4\n",
      "feeding: 4\n",
      "descending: 4\n",
      "fruits: 4\n",
      "shu: 4\n",
      "torrent: 4\n",
      "listening: 4\n",
      "red: 4\n",
      "quails: 4\n",
      "four: 4\n",
      "crabapple: 4\n",
      "herdboy: 4\n",
      "sitting: 4\n",
      "rising: 4\n",
      "weiqi: 4\n",
      "style: 4\n",
      "villa: 4\n",
      "moored: 4\n",
      "han: 4\n",
      "group: 4\n",
      "peaches: 4\n",
      "promontory: 4\n",
      "summer: 4\n",
      "herd-boy: 4\n",
      "sparrows: 4\n",
      "peach: 4\n",
      "shade: 4\n",
      "dragons: 4\n",
      "riverbank: 4\n",
      "servant: 3\n",
      "screen: 3\n",
      "edge: 3\n",
      "scholarly: 3\n",
      "sage: 3\n",
      "fish: 3\n",
      "village: 3\n",
      "fisherman: 3\n",
      "old: 3\n",
      "cock: 3\n",
      "dao: 3\n",
      "goats: 3\n",
      "washing: 3\n",
      "valleys: 3\n",
      "tearful: 3\n",
      "hollyhocks: 3\n",
      "grove: 3\n",
      "portraits: 3\n",
      "hao: 3\n",
      "tribute: 3\n",
      "rapids: 3\n",
      "high: 3\n",
      "avalokiteshvara: 3\n",
      "hillside: 3\n",
      "tea: 3\n",
      "composing: 3\n",
      "hawks: 3\n",
      "lions: 3\n",
      "friend: 3\n",
      "meeting: 3\n",
      "orchids: 3\n",
      "hunt: 3\n",
      "woodcutter: 3\n",
      "mynahs: 3\n",
      "paulownia: 3\n",
      "poem: 3\n",
      "musicians: 3\n",
      "moving: 3\n",
      "manjusri: 3\n",
      "smartweed: 3\n",
      "plant: 3\n",
      "sheep: 3\n",
      "official: 3\n",
      "across: 3\n",
      "leading: 3\n",
      "bodhidharma: 3\n",
      "king: 3\n",
      "flute: 3\n",
      "animals: 3\n",
      "beside: 3\n",
      "approaching: 3\n",
      "waves: 3\n",
      "reclusion: 3\n",
      "hall: 3\n",
      "presenting: 3\n",
      "captivity: 3\n",
      "landscapes: 3\n",
      "wangchuan: 3\n",
      "snow-covered: 3\n",
      "glass: 3\n",
      "workmen: 3\n",
      "sixteen: 3\n",
      "branches: 3\n",
      "willows: 3\n",
      "rabbit: 3\n",
      "wooded: 3\n",
      "blossom: 3\n",
      "hunters: 3\n",
      "lu: 3\n",
      "cabbage: 3\n",
      "herbs: 3\n",
      "eagle: 3\n",
      "poets: 3\n",
      "wild: 3\n",
      "broad: 3\n",
      "guo: 3\n",
      "hut: 3\n",
      "foliage: 3\n",
      "tang: 3\n",
      "picnic: 3\n",
      "ten: 3\n",
      "celestial: 3\n",
      "springtime: 3\n",
      "buffaloes: 3\n",
      "ocean: 3\n",
      "chrysanthemums: 2\n",
      "moonlit: 2\n",
      "cart: 2\n",
      "demon: 2\n",
      "fallen: 2\n",
      "child: 2\n",
      "carrying: 2\n",
      "kneeling: 2\n",
      "towering: 2\n",
      "basket: 2\n",
      "horsemen: 2\n",
      "ducklings: 2\n",
      "objects: 2\n",
      "celebrate: 2\n",
      "chinese: 2\n",
      "foot: 2\n",
      "moth: 2\n",
      "leafy: 2\n",
      "grooms: 2\n",
      "明: 2\n",
      "donkey: 2\n",
      "herb: 2\n",
      "gatherer: 2\n",
      "peddler: 2\n",
      "beneath: 2\n",
      "mending: 2\n",
      "clothes: 2\n",
      "early: 2\n",
      "ape: 2\n",
      "layered: 2\n",
      "minister: 2\n",
      "yang: 2\n",
      "studious: 2\n",
      "youth: 2\n",
      "dog: 2\n",
      "zhongli: 2\n",
      "quan: 2\n",
      "seeking: 2\n",
      "sailing: 2\n",
      "tuning: 2\n",
      "2: 2\n",
      "great: 2\n",
      "loquats: 2\n",
      "butterfly: 2\n",
      "eagles: 2\n",
      "three-legged: 2\n",
      "poems: 2\n",
      "fishermen: 2\n",
      "cheng: 2\n",
      "yi: 2\n",
      "zhu: 2\n",
      "swinging: 2\n",
      "day: 2\n",
      "stopping: 2\n",
      "1: 2\n",
      "eggplant: 2\n",
      "herons: 2\n",
      "fighting: 2\n",
      "grasshoppers: 2\n",
      "road: 2\n",
      "rider: 2\n",
      "plum-blossoms: 2\n",
      "shennong: 2\n",
      "fu: 2\n",
      "cubs: 2\n",
      "without: 2\n",
      "eating: 2\n",
      "mynah: 2\n",
      "bullock-carts: 2\n",
      "arriving: 2\n",
      "afternoon: 2\n",
      "visit: 2\n",
      "bluff: 2\n",
      "《蜀棧旅行圖》: 2\n",
      "wood-gatherers: 2\n",
      "bao: 2\n",
      "zheng: 2\n",
      "998-1061: 2\n",
      "writing: 2\n",
      "crimson: 2\n",
      "thousand-armed: 2\n",
      "cinnamon: 2\n",
      "guan: 2\n",
      "yu: 2\n",
      "hong: 2\n",
      "buddhist: 2\n",
      "bringing: 2\n",
      "taking: 2\n",
      "asleep: 2\n",
      "dreaming: 2\n",
      "sword: 2\n",
      "one: 2\n",
      "side: 2\n",
      "prince: 2\n",
      "達摩圖像: 2\n",
      "panthaka: 2\n",
      "tenth: 2\n",
      "半託迦尊者像: 2\n",
      "dawn: 2\n",
      "山水圖: 2\n",
      "bestiary: 2\n",
      "real: 2\n",
      "imaginary: 2\n",
      "islands: 2\n",
      "butterflies: 2\n",
      "central: 2\n",
      "asians: 2\n",
      "night: 2\n",
      "view: 2\n",
      "rivers: 2\n",
      "mother: 2\n",
      "river-bank: 2\n",
      "pine-tree: 2\n",
      "temples: 2\n",
      "roses: 2\n",
      "hillsides: 2\n",
      "resting: 2\n",
      "white-robed: 2\n",
      "beasts: 2\n",
      "meiniang: 2\n",
      "廬媚娘像: 2\n",
      "traveler: 2\n",
      "demons: 2\n",
      "lakeside: 2\n",
      "estate: 2\n",
      "berries: 2\n",
      "western: 2\n",
      "squabbling: 2\n",
      "mynas: 2\n",
      "demon-like: 2\n",
      "creatures: 2\n",
      "shide: 2\n",
      "laughing: 2\n",
      "alone: 2\n",
      "cataract: 2\n",
      "hare: 2\n",
      "receiving: 2\n",
      "drink: 2\n",
      "play: 2\n",
      "awaiting: 2\n",
      "napping: 2\n",
      "cascade: 2\n",
      "harvest: 2\n",
      "revelry: 2\n",
      "nomad: 2\n",
      "tent: 2\n",
      "distance: 2\n",
      "shells: 2\n",
      "viewing: 2\n",
      "hovering: 2\n",
      "fungus: 2\n",
      "retirement: 2\n",
      "sunset: 2\n",
      "diamond: 2\n",
      "sutra: 2\n",
      "leashed: 2\n",
      "gibbon: 2\n",
      "stealing: 2\n",
      "eighteeen: 2\n",
      "tieguai: 2\n",
      "tugging: 2\n",
      "墨竹圖: 2\n",
      "cats: 2\n",
      "pure: 2\n",
      "pigeons: 2\n",
      "song: 2\n",
      "promenading: 2\n",
      "creek: 2\n",
      "gibbons: 2\n",
      "twenty: 2\n",
      "ficus: 2\n",
      "religiosa: 2\n",
      "drunken: 2\n",
      "illustrations: 2\n",
      "eleven: 2\n",
      "jiucheng: 2\n",
      "breeze: 2\n",
      "marshes: 2\n",
      "women: 2\n",
      "conversing: 2\n",
      "skies: 2\n",
      "sandbar: 2\n",
      "laozi: 2\n",
      "pass: 2\n",
      "land: 2\n",
      "escaping: 2\n",
      "heat: 2\n",
      "《松陰避暑圖》: 2\n",
      "perpendicular: 2\n",
      "rough: 2\n",
      "monkey: 2\n",
      "f1905.15: 2\n",
      "way-station: 2\n",
      "family: 2\n",
      "forest: 2\n",
      "setting: 2\n",
      "zhong: 2\n",
      "kui: 2\n",
      "sky: 2\n",
      "jing: 2\n",
      "rabbits: 2\n",
      "shanglin: 2\n",
      "park: 2\n",
      "penglai: 2\n",
      "goddess: 2\n",
      "yangzi: 2\n",
      "scenic: 2\n",
      "seventh: 2\n",
      "west: 2\n",
      "xizhi: 1\n",
      "inscribing: 1\n",
      "fans: 1\n",
      "bay: 1\n",
      "robed: 1\n",
      "design: 1\n",
      "adept: 1\n",
      "disappearing: 1\n",
      "gourd: 1\n",
      "gray: 1\n",
      "runner: 1\n",
      "infant: 1\n",
      "divinity: 1\n",
      "amidst: 1\n",
      "table: 1\n",
      "large: 1\n",
      "summoning: 1\n",
      "hares: 1\n",
      "caparisoned: 1\n",
      "duanwu: 1\n",
      "painting: 1\n",
      "zongzi: 1\n",
      "dumplings: 1\n",
      "phoenix: 1\n",
      "assemblage: 1\n",
      "庭院嬰戯圖: 1\n",
      "冊頁: 1\n",
      "pines—a: 1\n",
      "soft-drink: 1\n",
      "customers: 1\n",
      "明貨郎圖冊頁: 1\n",
      "lonely: 1\n",
      "staff: 1\n",
      "change: 1\n",
      "mountebanks: 1\n",
      "chained: 1\n",
      "saluting: 1\n",
      "sunrise: 1\n",
      "singing: 1\n",
      "willow-branch: 1\n",
      "ridge: 1\n",
      "taoists: 1\n",
      "drake: 1\n",
      "hen: 1\n",
      "chickens: 1\n",
      "peony: 1\n",
      "shrubs: 1\n",
      "prime: 1\n",
      "emaciated: 1\n",
      "handicraftsmen: 1\n",
      "people: 1\n",
      "pursuing: 1\n",
      "girl: 1\n",
      "embroidery: 1\n",
      "frame: 1\n",
      "leaving: 1\n",
      "behind: 1\n",
      "riders: 1\n",
      "toads: 1\n",
      "millet: 1\n",
      "court: 1\n",
      "ancient: 1\n",
      "much: 1\n",
      "darkened: 1\n",
      "groves: 1\n",
      "book: 1\n",
      "spire: 1\n",
      "roosting: 1\n",
      "cockatoo: 1\n",
      "perch: 1\n",
      "outing: 1\n",
      "watch: 1\n",
      "lean: 1\n",
      "bearers: 1\n",
      "lotuses: 1\n",
      "shooting: 1\n",
      "twig: 1\n",
      "lao: 1\n",
      "tzu: 1\n",
      "confucius: 1\n",
      "garden-piece: 1\n",
      "ants: 1\n",
      "tasting: 1\n",
      "poetry: 1\n",
      "barren: 1\n",
      "bough: 1\n",
      "ox-carts: 1\n",
      "lassoing: 1\n",
      "ink: 1\n",
      "snowfall: 1\n",
      "visitor: 1\n",
      "retreat: 1\n",
      "parrots: 1\n",
      "pomegranates: 1\n",
      "gentlemen: 1\n",
      "contemplating: 1\n",
      "grapevines: 1\n",
      "sands: 1\n",
      "inn: 1\n",
      "raising: 1\n",
      "net: 1\n",
      "vegetables: 1\n",
      "fishmonger: 1\n",
      "customer: 1\n",
      "equipment: 1\n",
      "ancients: 1\n",
      "archers: 1\n",
      "waxwing: 1\n",
      "staves: 1\n",
      "zhou: 1\n",
      "cang: 1\n",
      "sound: 1\n",
      "xu: 1\n",
      "ears: 1\n",
      "manjushri: 1\n",
      "herb-gatherer: 1\n",
      "verdant: 1\n",
      "banana: 1\n",
      "palms: 1\n",
      "ge: 1\n",
      "shi: 1\n",
      "le: 1\n",
      "reverencing: 1\n",
      "monk: 1\n",
      "dongpo: 1\n",
      "brambles: 1\n",
      "crouching: 1\n",
      "maichen: 1\n",
      "wintry: 1\n",
      "oxen: 1\n",
      "pasture: 1\n",
      "mists: 1\n",
      "small: 1\n",
      "drawn: 1\n",
      "zhuangzi: 1\n",
      "huang: 1\n",
      "chuping: 1\n",
      "turning: 1\n",
      "stones: 1\n",
      "wheel: 1\n",
      "knees: 1\n",
      "followed: 1\n",
      "musical: 1\n",
      "instrument: 1\n",
      "cup: 1\n",
      "either: 1\n",
      "addressed: 1\n",
      "deva: 1\n",
      "提婆王圖: 1\n",
      "removing: 1\n",
      "saddle: 1\n",
      "inspecting: 1\n",
      "arrows: 1\n",
      "解鞍調箭圖: 1\n",
      "knick-knack: 1\n",
      "嬰戲貨郎圖: 1\n",
      "gardenia: 1\n",
      "fishes: 1\n",
      "flowing: 1\n",
      "landing: 1\n",
      "overlooking: 1\n",
      "courtesans: 1\n",
      "gnarled: 1\n",
      "wind-swept: 1\n",
      "weeds: 1\n",
      "amorous: 1\n",
      "room: 1\n",
      "interior: 1\n",
      "melons: 1\n",
      "egg-plants: 1\n",
      "weasels: 1\n",
      "grapevine: 1\n",
      "ni: 1\n",
      "zan: 1\n",
      "literary: 1\n",
      "grand: 1\n",
      "herding: 1\n",
      "skipping-rope: 1\n",
      "清童子跳繩圖冊頁: 1\n",
      "crags: 1\n",
      "cleaning: 1\n",
      "ear: 1\n",
      "disciple: 1\n",
      "toy-peddler: 1\n",
      "清貨郎圖冊頁: 1\n",
      "supper: 1\n",
      "crag: 1\n",
      "lofty: 1\n",
      "springs: 1\n",
      "snow-laden: 1\n",
      "《雪梅圖》: 1\n",
      "tree-peony: 1\n",
      "projecting: 1\n",
      "mountain-landscape: 1\n",
      "armed: 1\n",
      "peasants: 1\n",
      "ford: 1\n",
      "frontispiece: 1\n",
      "standard: 1\n",
      "script: 1\n",
      "pagoda: 1\n",
      "foaming: 1\n",
      "grotesque: 1\n",
      "fantastic: 1\n",
      "bank: 1\n",
      "清二童庭戯圖冊頁: 1\n",
      "冬景山水圖: 1\n",
      "grooming: 1\n",
      "observing: 1\n",
      "fly: 1\n",
      "whisk: 1\n",
      "拂塵羅漢像: 1\n",
      "monkeys: 1\n",
      "meal: 1\n",
      "board: 1\n",
      "farm-buildings: 1\n",
      "several: 1\n",
      "thousand-eyed: 1\n",
      "佚名: 1\n",
      "《千手千眼觀世音菩薩像》: 1\n",
      "軸: 1\n",
      "expelling: 1\n",
      "whiling: 1\n",
      "away: 1\n",
      "《湖莊消夏圖》: 1\n",
      "crane: 1\n",
      "myriad: 1\n",
      "covered: 1\n",
      "elegant: 1\n",
      "male: 1\n",
      "secluded: 1\n",
      "china: 1\n",
      "frog: 1\n",
      "fisher: 1\n",
      "folk: 1\n",
      "puppet: 1\n",
      "toward: 1\n",
      "kiosk: 1\n",
      "arrangement: 1\n",
      "coursing: 1\n",
      "still: 1\n",
      "bric-a-brac: 1\n",
      "pheasant: 1\n",
      "thatched: 1\n",
      "明嬰戯圖軸: 1\n",
      "poet: 1\n",
      "painted: 1\n",
      "noble: 1\n",
      "goat: 1\n",
      "amitabha: 1\n",
      "welcoming: 1\n",
      "soul: 1\n",
      "paradise: 1\n",
      "water-buffaloes: 1\n",
      "willow-trees: 1\n",
      "autumnal: 1\n",
      "travellers: 1\n",
      "hermitage: 1\n",
      "《雪塢幽居圖》: 1\n",
      "head: 1\n",
      "crested: 1\n",
      "bearing: 1\n",
      "revering: 1\n",
      "party: 1\n",
      "mountain-peak: 1\n",
      "stone: 1\n",
      "heaven: 1\n",
      "dhyana: 1\n",
      "coat: 1\n",
      "tortoise: 1\n",
      "scroll: 1\n",
      "dhyani: 1\n",
      "duke: 1\n",
      "wen: 1\n",
      "jin: 1\n",
      "recovering: 1\n",
      "state: 1\n",
      "bulls: 1\n",
      "bees: 1\n",
      "deities: 1\n",
      "fungus-of-immortality: 1\n",
      "pine-trees: 1\n",
      "magnolias: 1\n",
      "overhead: 1\n",
      "deep: 1\n",
      "mice: 1\n",
      "melon: 1\n",
      "vine: 1\n",
      "wenchang: 1\n",
      "kuixing: 1\n",
      "domestic: 1\n",
      "ox: 1\n",
      "blackbird: 1\n",
      "lute: 1\n",
      "攜琴仙觀圖: 1\n",
      "xin: 1\n",
      "pi: 1\n",
      "robe: 1\n",
      "辛毗引裾圖: 1\n",
      "seventeenth: 1\n",
      "大阿羅漢尊者像: 1\n",
      "retinue: 1\n",
      "下元水官圖: 1\n",
      "ajita: 1\n",
      "fifteenth: 1\n",
      "阿氏多尊者像: 1\n",
      "search: 1\n",
      "meditating: 1\n",
      "prostrated: 1\n",
      "sanctuary: 1\n",
      "grown: 1\n",
      "stairs: 1\n",
      "chair: 1\n",
      "shancai: 1\n",
      "keepers: 1\n",
      "fir-pines: 1\n",
      "松杉行旅圖: 1\n",
      "doves: 1\n",
      "studio: 1\n",
      "nine: 1\n",
      "songs: 1\n",
      "homeward: 1\n",
      "clear: 1\n",
      "recluse: 1\n",
      "taizong: 1\n",
      "snowscape: 1\n",
      "《仿郭熙雪景圖》: 1\n",
      "shepherd-boy: 1\n",
      "guests: 1\n",
      "tub: 1\n",
      "清五童戲水圖冊頁: 1\n",
      "fording: 1\n",
      "moon-lit: 1\n",
      "hill: 1\n",
      "dragon-boat: 1\n",
      "rolling: 1\n",
      "range: 1\n",
      "anchored: 1\n",
      "itinerant: 1\n",
      "tradesmen: 1\n",
      "swimming: 1\n",
      "mountainside: 1\n",
      "wide: 1\n",
      "dongting: 1\n",
      "洞庭秋月圖: 1\n",
      "hunting: 1\n",
      "afar: 1\n",
      "trestle: 1\n",
      "roads: 1\n",
      "hua: 1\n",
      "華嶽睛嵐圖: 1\n",
      "獵騎圖: 1\n",
      "mule-train: 1\n",
      "雪山驢運圖: 1\n",
      "discourse: 1\n",
      "vimalakirti: 1\n",
      "porcine: 1\n",
      "animal: 1\n",
      "teng: 1\n",
      "滕王閣圖: 1\n",
      "yueyang: 1\n",
      "岳陽樓圖: 1\n",
      "ba: 1\n",
      "goose: 1\n",
      "nets: 1\n",
      "drying: 1\n",
      "steeds: 1\n",
      "changyang: 1\n",
      "dwelling: 1\n",
      "island: 1\n",
      "flying: 1\n",
      "swallows: 1\n",
      "skin: 1\n",
      "gu: 1\n",
      "twenty-four: 1\n",
      "documents: 1\n",
      "gong: 1\n",
      "emei: 1\n",
      "heavy: 1\n",
      "《峩眉積雪圖》: 1\n",
      "vines: 1\n",
      "pictures: 1\n",
      "farm: 1\n",
      "enthroned: 1\n",
      "mat: 1\n",
      "kusa: 1\n",
      "grass: 1\n",
      "stag: 1\n",
      "doe: 1\n",
      "nymph: 1\n",
      "luo: 1\n",
      "洛神圖: 1\n",
      "溪山獨釣圖: 1\n",
      "雲起樓圖: 1\n",
      "strolling: 1\n",
      "gazebo: 1\n",
      "湖亭遊覽圖: 1\n",
      "cloud: 1\n",
      "minghuang: 1\n",
      "consort: 1\n",
      "ease: 1\n",
      "《消夏圖》: 1\n",
      "bell: 1\n",
      "《桃菊圖》: 1\n",
      "taming: 1\n",
      "pestilences: 1\n",
      "preparing: 1\n",
      "rounded: 1\n",
      "hollow: 1\n",
      "waters: 1\n",
      "seven: 1\n",
      "going: 1\n",
      "joys: 1\n",
      "《秋江漁樂圖》: 1\n",
      "forests: 1\n",
      "discussing: 1\n",
      "松陰論道圖: 1\n",
      "待渡圖: 1\n",
      "end: 1\n",
      "chu: 1\n",
      "bean: 1\n",
      "huntsmen: 1\n",
      "xiao: 1\n",
      "obtaining: 1\n",
      "lanting: 1\n",
      "manuscript: 1\n",
      "trickery: 1\n",
      "worship: 1\n",
      "herd-boys: 1\n",
      "amid: 1\n",
      "map: 1\n",
      "yellow: 1\n",
      "huntsman: 1\n",
      "killing: 1\n",
      "weiyang: 1\n",
      "delivering: 1\n",
      "copy: 1\n",
      "daodejing: 1\n",
      "dancer: 1\n",
      "camellia: 1\n",
      "huntmen: 1\n",
      "falcon: 1\n",
      "striking: 1\n",
      "swan: 1\n",
      "regatta: 1\n",
      "genealogy: 1\n",
      "banks: 1\n",
      "gate: 1\n",
      "towers: 1\n",
      "chang: 1\n",
      "e: 1\n",
      "lunar: 1\n",
      "fish-basket: 1\n",
      "雪山行旅圖: 1\n",
      "worthy: 1\n",
      "taiyi: 1\n",
      "delivers: 1\n",
      "suffering: 1\n",
      "太乙救苦天尊像: 1\n",
      "牧牛圖: 1\n",
      "admonishing: 1\n",
      "chains: 1\n",
      "full: 1\n",
      "designs: 1\n",
      "foothills: 1\n",
      "《雪麓早行圖》: 1\n",
      "winding: 1\n",
      "dikes: 1\n",
      "vaisravana: 1\n",
      "guardian: 1\n",
      "north: 1\n",
      "plants: 1\n",
      "camelias: 1\n",
      "herdboys: 1\n",
      "柳蔭牧牛圖: 1\n",
      "tiantai: 1\n",
      "天台石橋圖: 1\n",
      "dynasty: 1\n",
      "tigers: 1\n",
      "tribute-bearers: 1\n",
      "countries: 1\n",
      "《春山游騎圖: 1\n",
      "谿山秋霽圖: 1\n",
      "precious: 1\n",
      "paintings: 1\n",
      "寶繪堂圖: 1\n",
      "鍾離訪道圖: 1\n",
      "treaty: 1\n",
      "bian: 1\n",
      "《汴橋會盟圖》: 1\n",
      "double: 1\n",
      "brothers: 1\n",
      "重屏圖: 1\n",
      "laundering: 1\n",
      "羅漢洗濯圖: 1\n",
      "蜀川圖: 1\n",
      "celebrating: 1\n",
      "beauty: 1\n",
      "有美堂圖: 1\n",
      "society: 1\n",
      "thousand: 1\n",
      "長江萬里圖: 1\n",
      "month: 1\n",
      "odes: 1\n",
      "bin: 1\n",
      "豳風七月圖: 1\n",
      "various: 1\n",
      "mountainous: 1\n",
      "queen: 1\n",
      "seclusion: 1\n",
      "陶淵明歸隱圖: 1\n",
      "attractions: 1\n",
      "西湖清趣圖: 1\n",
      "pilgrimage: 1\n",
      "sudhana: 1\n",
      "realm: 1\n",
      "patriarchs: 1\n",
      "chan: 1\n",
      "buddhism: 1\n",
      "princes: 1\n",
      "coming: 1\n",
      "foreign: 1\n",
      "lands: 1\n",
      "ingada: 1\n",
      "thirteenth: 1\n",
      "making: 1\n",
      "kanaka: 1\n",
      "bharadvaja: 1\n",
      "third: 1\n",
      "bhadra: 1\n",
      "sixth: 1\n",
      "ziyi: 1\n",
      "greeting: 1\n",
      "sleeping: 1\n",
      "pomegranate: 1\n",
      "boyi: 1\n",
      "shuqi: 1\n",
      "shouyang: 1\n",
      "text: 1\n",
      "story: 1\n",
      "wing: 1\n"
     ]
    },
    {
     "name": "stderr",
     "output_type": "stream",
     "text": [
      "[nltk_data] Downloading package punkt to /Users/bbqnj35/nltk_data...\n",
      "[nltk_data]   Package punkt is already up-to-date!\n",
      "[nltk_data] Downloading package stopwords to\n",
      "[nltk_data]     /Users/bbqnj35/nltk_data...\n",
      "[nltk_data]   Package stopwords is already up-to-date!\n"
     ]
    }
   ],
   "source": [
    "import pandas as pd\n",
    "from collections import Counter\n",
    "import nltk\n",
    "from nltk.tokenize import word_tokenize\n",
    "from nltk.corpus import stopwords\n",
    "import string\n",
    "\n",
    "# 确保已下载 nltk 数据\n",
    "nltk.download('punkt')\n",
    "nltk.download('stopwords')\n",
    "\n",
    "# 选出 Type 列为 \"Painting\" 的行\n",
    "paintings_df = china_collections_df[china_collections_df['Type'] == 'Painting']\n",
    "\n",
    "# 获取英语停用词列表\n",
    "stop_words = set(stopwords.words('english'))\n",
    "\n",
    "# 获取标点符号列表\n",
    "punctuation = set(string.punctuation)\n",
    "\n",
    "# 统计 token 的频次\n",
    "token_counter = Counter()\n",
    "\n",
    "for name in paintings_df['Name']:\n",
    "    tokens = word_tokenize(name)  # 使用 nltk 的 word_tokenize 方法进行分词\n",
    "    filtered_tokens = [token.lower() for token in tokens if token.lower() not in stop_words and token not in punctuation]  # 去除停用词和标点符号并统一小写\n",
    "    token_counter.update(filtered_tokens)\n",
    "\n",
    "# 打印 token 频次\n",
    "print(\"Token Frequency:\")\n",
    "for token, freq in token_counter.most_common():\n",
    "    print(f\"{token}: {freq}\")\n"
   ]
  },
  {
   "cell_type": "code",
   "execution_count": null,
   "id": "35fa7e7e-de5f-4771-a6d2-825f2284aea6",
   "metadata": {},
   "outputs": [],
   "source": []
  },
  {
   "cell_type": "code",
   "execution_count": null,
   "id": "df96ee60-f372-4b9b-bd90-b5ac98214ab6",
   "metadata": {},
   "outputs": [],
   "source": []
  },
  {
   "cell_type": "code",
   "execution_count": null,
   "id": "34b85fae-4394-4cb4-b7f8-46c53d2e186e",
   "metadata": {},
   "outputs": [],
   "source": []
  },
  {
   "cell_type": "markdown",
   "id": "a2fc62c8-f001-40a1-a643-a515314132b9",
   "metadata": {},
   "source": [
    "### Clip Model"
   ]
  },
  {
   "cell_type": "code",
   "execution_count": 6,
   "id": "75838aa2-b586-4ebd-8d9f-d412c041034f",
   "metadata": {},
   "outputs": [
    {
     "name": "stdout",
     "output_type": "stream",
     "text": [
      "Image paths saved\n"
     ]
    }
   ],
   "source": [
    "import os\n",
    "\n",
    "# 定义文件夹路径\n",
    "folder_path = 'imgs'\n",
    "\n",
    "# 获取文件夹中所有图片文件的路径\n",
    "image_paths = [os.path.join(folder_path, file) for file in os.listdir(folder_path) if file.endswith(('.jpg'))]\n",
    "\n",
    "# 将路径保存到 txt 文件中\n",
    "with open('img_name.txt', 'w') as f:\n",
    "    for path in image_paths:\n",
    "        f.write(path + '\\n')\n",
    "\n",
    "print(\"Image paths saved\")"
   ]
  },
  {
   "cell_type": "code",
   "execution_count": 7,
   "id": "cb6c7577-5862-4810-add1-f63308f2ba9b",
   "metadata": {},
   "outputs": [
    {
     "name": "stdout",
     "output_type": "stream",
     "text": [
      "文件行数为: 1097\n"
     ]
    }
   ],
   "source": [
    "# 打开文件\n",
    "with open('img_name.txt', 'r') as f:\n",
    "    # 读取文件的所有行\n",
    "    lines = f.readlines()\n",
    "\n",
    "# 计算行数\n",
    "num_lines = len(lines)\n",
    "\n",
    "print(\"文件行数为:\", num_lines)"
   ]
  },
  {
   "cell_type": "code",
   "execution_count": 2,
   "id": "08afaa98-0cb3-4fa3-818b-09a95b908208",
   "metadata": {},
   "outputs": [
    {
     "name": "stderr",
     "output_type": "stream",
     "text": [
      "/opt/anaconda3/lib/python3.11/site-packages/sentence_transformers/cross_encoder/CrossEncoder.py:11: TqdmExperimentalWarning: Using `tqdm.autonotebook.tqdm` in notebook mode. Use `tqdm.tqdm` instead to force console mode (e.g. in jupyter console)\n",
      "  from tqdm.autonotebook import tqdm, trange\n"
     ]
    }
   ],
   "source": [
    "from sentence_transformers import SentenceTransformer, util\n",
    "from PIL import Image\n",
    "import glob\n",
    "import torch\n",
    "import pickle\n",
    "import zipfile\n",
    "from IPython.display import display\n",
    "from IPython.display import Image as IPImage\n",
    "import os\n",
    "from tqdm import tqdm\n",
    "\n",
    "#First, we load the respective CLIP model\n",
    "model = SentenceTransformer('clip-ViT-B-32')\n"
   ]
  },
  {
   "cell_type": "code",
   "execution_count": 5,
   "id": "c4d94a25-a23c-4962-9864-5ef001a80c69",
   "metadata": {},
   "outputs": [
    {
     "data": {
      "application/vnd.jupyter.widget-view+json": {
       "model_id": "d1e92653ab3246c28efe99e40789eab3",
       "version_major": 2,
       "version_minor": 0
      },
      "text/plain": [
       "Batches:   0%|          | 0/9 [00:00<?, ?it/s]"
      ]
     },
     "metadata": {},
     "output_type": "display_data"
    }
   ],
   "source": [
    "# 读取图片路径列表\n",
    "with open('img_name.txt', 'r') as f:\n",
    "    img_paths = f.readlines()\n",
    "# 去除每个路径末尾的换行符\n",
    "img_paths = [path.strip() for path in img_paths]\n",
    "\n",
    "# 使用模型计算图像的嵌入向量\n",
    "emb_art = model.encode([Image.open(path) for path in img_paths], batch_size=128, convert_to_tensor=True, show_progress_bar=True)\n"
   ]
  },
  {
   "cell_type": "code",
   "execution_count": null,
   "id": "6357f590-32f5-4857-a9f8-960b7c019299",
   "metadata": {},
   "outputs": [],
   "source": []
  },
  {
   "cell_type": "code",
   "execution_count": null,
   "id": "bee67f39-0c1d-4dbe-94e7-f67523ab866d",
   "metadata": {},
   "outputs": [],
   "source": []
  },
  {
   "cell_type": "code",
   "execution_count": null,
   "id": "ccfda115-99b4-47fd-a334-31283e85896b",
   "metadata": {},
   "outputs": [],
   "source": []
  },
  {
   "cell_type": "code",
   "execution_count": 24,
   "id": "58f961a8-a3d0-411b-bcbb-14bb477cbae5",
   "metadata": {},
   "outputs": [
    {
     "name": "stdout",
     "output_type": "stream",
     "text": [
      "torch.Size([1097, 512])\n"
     ]
    }
   ],
   "source": [
    "print(emb_art.shape)"
   ]
  },
  {
   "cell_type": "code",
   "execution_count": 25,
   "id": "f25e8b10-6718-4089-ae65-7a48cbe82217",
   "metadata": {},
   "outputs": [],
   "source": [
    "def community_detection(embeddings, threshold, min_community_size=5, init_max_size=1097):\n",
    "\n",
    "    # Compute cosine similarity scores\n",
    "    cos_scores = util.cos_sim(embeddings, embeddings)\n",
    "    # Minimum size for a community\n",
    "    top_k_values, _ = cos_scores.topk(k=min_community_size, largest=True)\n",
    "\n",
    "    # Filter for rows >= min_threshold\n",
    "    extracted_communities = []\n",
    "    for i in range(len(top_k_values)):\n",
    "        if top_k_values[i][-1] >= threshold:\n",
    "            new_cluster = []\n",
    "\n",
    "            # Only check top k most similar entries\n",
    "            top_val_large, top_idx_large = cos_scores[i].topk(k=init_max_size, largest=True)\n",
    "            top_idx_large = top_idx_large.tolist()\n",
    "            top_val_large = top_val_large.tolist()\n",
    "\n",
    "            if top_val_large[-1] < threshold:\n",
    "                for idx, val in zip(top_idx_large, top_val_large):\n",
    "                    if val < threshold:\n",
    "                        break\n",
    "\n",
    "                    new_cluster.append(idx)\n",
    "            else:\n",
    "                # Iterate over all entries (slow)\n",
    "                for idx, val in enumerate(cos_scores[i].tolist()):\n",
    "                    if val >= threshold:\n",
    "                        new_cluster.append(idx)\n",
    "\n",
    "            extracted_communities.append(new_cluster)\n",
    "\n",
    "    # Largest cluster first\n",
    "    extracted_communities = sorted(extracted_communities, key=lambda x: len(x), reverse=True)\n",
    "\n",
    "    # Step 2) Remove overlapping communities\n",
    "    unique_communities = []\n",
    "    extracted_ids = set()\n",
    "\n",
    "    for community in extracted_communities:\n",
    "        add_cluster = True\n",
    "        for idx in community:\n",
    "            if idx in extracted_ids:\n",
    "                add_cluster = False\n",
    "                break\n",
    "\n",
    "        if add_cluster:\n",
    "            unique_communities.append(community)\n",
    "            for idx in community:\n",
    "                extracted_ids.add(idx)\n",
    "\n",
    "    return unique_communities"
   ]
  },
  {
   "cell_type": "code",
   "execution_count": 26,
   "id": "e0c53d64-eaa8-4799-8028-ba204d0e006b",
   "metadata": {},
   "outputs": [
    {
     "name": "stdout",
     "output_type": "stream",
     "text": [
      "Total number of clusters: 14\n"
     ]
    }
   ],
   "source": [
    "clusters = community_detection(emb_art, threshold=0.9, min_community_size=5)\n",
    "print(\"Total number of clusters:\", len(clusters))"
   ]
  },
  {
   "cell_type": "code",
   "execution_count": 27,
   "id": "a2a8b34d-d711-426d-9ced-88ab79044fe0",
   "metadata": {},
   "outputs": [],
   "source": [
    "img_names = []\n",
    "with open('img_name.txt') as in_file:\n",
    "    for line in in_file:\n",
    "        line = line.strip()\n",
    "        img_names.append(line)"
   ]
  },
  {
   "cell_type": "code",
   "execution_count": null,
   "id": "009d5ffc-7aaa-464d-a108-4db4ccd7153c",
   "metadata": {},
   "outputs": [],
   "source": []
  },
  {
   "cell_type": "code",
   "execution_count": 28,
   "id": "f056b020-8d38-46b1-ba6b-17bd21842333",
   "metadata": {},
   "outputs": [
    {
     "data": {
      "text/html": [
       "\n",
       "<style>\n",
       ".img-container {\n",
       "    display: flex;\n",
       "}\n",
       "</style>\n",
       "<div class='img-container'><div><p>Cluster size: 288</p><img src='imgs/FS-7463_07.jpg' width='300px' style='margin-right: 10px;'><img src='imgs/FS-7451_46.jpg' width='300px' style='margin-right: 10px;'><img src='imgs/FS-7465_01.jpg' width='300px' style='margin-right: 10px;'></div><div><p>Cluster size: 34</p><img src='imgs/FS-5847_10.jpg' width='300px' style='margin-right: 10px;'><img src='imgs/FS-5787_11.jpg' width='300px' style='margin-right: 10px;'><img src='imgs/FS-5908_03.jpg' width='300px' style='margin-right: 10px;'></div><div><p>Cluster size: 28</p><img src='imgs/FS-7280_08.jpg' width='300px' style='margin-right: 10px;'><img src='imgs/FS-6543_05.jpg' width='300px' style='margin-right: 10px;'><img src='imgs/FS-7112_07.jpg' width='300px' style='margin-right: 10px;'></div><div><p>Cluster size: 18</p><img src='imgs/FS-5664_08.jpg' width='300px' style='margin-right: 10px;'><img src='imgs/FS-5732_11.jpg' width='300px' style='margin-right: 10px;'><img src='imgs/FS-5754_09.jpg' width='300px' style='margin-right: 10px;'></div><div><p>Cluster size: 17</p><img src='imgs/FS-5676_10.jpg' width='300px' style='margin-right: 10px;'><img src='imgs/FS-5751_06.jpg' width='300px' style='margin-right: 10px;'><img src='imgs/FS-6126_01.jpg' width='300px' style='margin-right: 10px;'></div><div><p>Cluster size: 16</p><img src='imgs/FS-7412_07.jpg' width='300px' style='margin-right: 10px;'><img src='imgs/FS-7412_08.jpg' width='300px' style='margin-right: 10px;'><img src='imgs/FS-7271_01.jpg' width='300px' style='margin-right: 10px;'></div><div><p>Cluster size: 12</p><img src='imgs/FS-5924_02.jpg' width='300px' style='margin-right: 10px;'><img src='imgs/FS-6372_01.jpg' width='300px' style='margin-right: 10px;'><img src='imgs/FS-8182_01.jpg' width='300px' style='margin-right: 10px;'></div><div><p>Cluster size: 8</p><img src='imgs/FS-8333_09.jpg' width='300px' style='margin-right: 10px;'><img src='imgs/FS-7472_16.jpg' width='300px' style='margin-right: 10px;'><img src='imgs/FS-8332_19.jpg' width='300px' style='margin-right: 10px;'></div><div><p>Cluster size: 8</p><img src='imgs/FS-5922_02.jpg' width='300px' style='margin-right: 10px;'><img src='imgs/FS-7454_49.jpg' width='300px' style='margin-right: 10px;'><img src='imgs/FS-6542_04.jpg' width='300px' style='margin-right: 10px;'></div><div><p>Cluster size: 7</p><img src='imgs/FS-5719_05.jpg' width='300px' style='margin-right: 10px;'><img src='imgs/FS-5732_04.jpg' width='300px' style='margin-right: 10px;'><img src='imgs/FS-5781_13.jpg' width='300px' style='margin-right: 10px;'></div></div>"
      ],
      "text/plain": [
       "<IPython.core.display.HTML object>"
      ]
     },
     "metadata": {},
     "output_type": "display_data"
    }
   ],
   "source": [
    "from IPython.display import display, HTML\n",
    "\n",
    "# 定义 CSS 样式，使图片横向显示\n",
    "css_style = \"\"\"\n",
    "<style>\n",
    ".img-container {\n",
    "    display: flex;\n",
    "}\n",
    "</style>\n",
    "\"\"\"\n",
    "\n",
    "# 输出 HTML，将图片放置在 div 中，并应用 CSS 样式\n",
    "html_output = \"<div class='img-container'>\"\n",
    "for cluster in clusters[0:10]:\n",
    "    html_output += \"<div>\"\n",
    "    html_output += f\"<p>Cluster size: {len(cluster)}</p>\"\n",
    "    # 输出 3 张图片\n",
    "    for idx in cluster[0:3]:\n",
    "        html_output += f\"<img src='{img_names[idx]}' width='300px' style='margin-right: 10px;'>\"\n",
    "    html_output += \"</div>\"\n",
    "html_output += \"</div>\"\n",
    "\n",
    "# 将 CSS 样式和 HTML 输出一起显示\n",
    "display(HTML(css_style + html_output))\n"
   ]
  },
  {
   "cell_type": "code",
   "execution_count": null,
   "id": "afab3f00-de84-48a6-8703-bffe64aa9589",
   "metadata": {},
   "outputs": [],
   "source": []
  },
  {
   "cell_type": "code",
   "execution_count": 8,
   "id": "f642c7f7-3668-4469-93b2-b78753c8dba4",
   "metadata": {},
   "outputs": [
    {
     "name": "stdout",
     "output_type": "stream",
     "text": [
      "Help on function semantic_search in module sentence_transformers.util:\n",
      "\n",
      "semantic_search(query_embeddings: torch.Tensor, corpus_embeddings: torch.Tensor, query_chunk_size: int = 100, corpus_chunk_size: int = 500000, top_k: int = 10, score_function: Callable[[torch.Tensor, torch.Tensor], torch.Tensor] = <function cos_sim at 0x1423e25c0>) -> List[List[Dict[str, Union[int, float]]]]\n",
      "    This function performs a cosine similarity search between a list of query embeddings  and a list of corpus embeddings.\n",
      "    It can be used for Information Retrieval / Semantic Search for corpora up to about 1 Million entries.\n",
      "    \n",
      "    Args:\n",
      "        query_embeddings (Tensor): A 2 dimensional tensor with the query embeddings.\n",
      "        corpus_embeddings (Tensor): A 2 dimensional tensor with the corpus embeddings.\n",
      "        query_chunk_size (int, optional): Process 100 queries simultaneously. Increasing that value increases the speed, but requires more memory. Defaults to 100.\n",
      "        corpus_chunk_size (int, optional): Scans the corpus 100k entries at a time. Increasing that value increases the speed, but requires more memory. Defaults to 500000.\n",
      "        top_k (int, optional): Retrieve top k matching entries. Defaults to 10.\n",
      "        score_function (Callable[[Tensor, Tensor], Tensor], optional): Function for computing scores. By default, cosine similarity.\n",
      "    \n",
      "    Returns:\n",
      "        List[List[Dict[str, Union[int, float]]]]: A list with one entry for each query. Each entry is a list of dictionaries with the keys 'corpus_id' and 'score', sorted by decreasing cosine similarity scores.\n",
      "\n"
     ]
    }
   ],
   "source": [
    "model_multi = SentenceTransformer('clip-ViT-B-32-multilingual-v1')\n",
    "\n",
    "k =3\n",
    "query_emb = model_multi.encode([\"beasts\"], convert_to_tensor=True, show_progress_bar=False)\n",
    "hits = util.semantic_search(query_emb, emb_art, top_k=k)[0]\n",
    "\n",
    "help(util.semantic_search)\n"
   ]
  },
  {
   "cell_type": "code",
   "execution_count": null,
   "id": "df695f5f-9fbf-4575-9b07-4ffe230f378e",
   "metadata": {},
   "outputs": [],
   "source": []
  },
  {
   "cell_type": "code",
   "execution_count": null,
   "id": "a7d34c29-18a0-40a2-915c-2f3ea7808e11",
   "metadata": {},
   "outputs": [],
   "source": []
  },
  {
   "cell_type": "code",
   "execution_count": 21,
   "id": "627fa2e7-bf65-4708-8c18-d16dbd6150bd",
   "metadata": {},
   "outputs": [],
   "source": [
    "from IPython.display import display, HTML, Image as IPImage\n",
    "\n",
    "# Define a search function\n",
    "def search(query, k=3):\n",
    "    # Encode the query (image or text)\n",
    "    query_emb = model_multi.encode([query], convert_to_tensor=True, show_progress_bar=False)\n",
    "    \n",
    "    # Semantic search to find top-k similar images\n",
    "    hits = util.semantic_search(query_emb, emb_art, top_k=k)[0]\n",
    "    \n",
    "    # Create HTML for displaying images horizontally\n",
    "    html_output = \"<div style='display:flex; flex-wrap: wrap; justify-content: flex-start;'>\"\n",
    "\n",
    "    \n",
    "    # Print search results\n",
    "    html_output += \"<h3>Search Results:</h3>\"\n",
    "    for hit in hits:\n",
    "        image_name = img_names[hit['corpus_id']]\n",
    "        html_output += f\"<div style='margin: 10px;'><img src='{image_name}' style='width:200px;'></div>\"\n",
    "    \n",
    "    html_output += \"</div>\"\n",
    "    \n",
    "    display(HTML(html_output))\n",
    "\n",
    "\n",
    "#search(\"animal\", k=8)  # Perform search with top-k results\n"
   ]
  },
  {
   "cell_type": "code",
   "execution_count": 22,
   "id": "9ed5fc66-e668-492f-8816-fe27c892b383",
   "metadata": {},
   "outputs": [
    {
     "data": {
      "text/html": [
       "<div style='display:flex; flex-wrap: wrap; justify-content: flex-start;'><h3>Search Results:</h3><div style='margin: 10px;'><img src='imgs/FS-7517_37.jpg' style='width:200px;'></div><div style='margin: 10px;'><img src='imgs/FS-5781_05.jpg' style='width:200px;'></div><div style='margin: 10px;'><img src='imgs/FS-8523_05.jpg' style='width:200px;'></div><div style='margin: 10px;'><img src='imgs/FS-8042_25.jpg' style='width:200px;'></div><div style='margin: 10px;'><img src='imgs/FS-7406_01.jpg' style='width:200px;'></div><div style='margin: 10px;'><img src='imgs/FS-5778_01.jpg' style='width:200px;'></div><div style='margin: 10px;'><img src='imgs/FS-5787_12.jpg' style='width:200px;'></div><div style='margin: 10px;'><img src='imgs/FS-5372_06.jpg' style='width:200px;'></div></div>"
      ],
      "text/plain": [
       "<IPython.core.display.HTML object>"
      ]
     },
     "metadata": {},
     "output_type": "display_data"
    }
   ],
   "source": [
    "search(\"pavilion\", k=8)"
   ]
  },
  {
   "cell_type": "markdown",
   "id": "e19a6125-33eb-4f13-b30e-71e9f96aa7c0",
   "metadata": {},
   "source": [
    "#### the size of Chinese paintings"
   ]
  },
  {
   "cell_type": "code",
   "execution_count": 3,
   "id": "17a3ea2b-a049-4cf1-b906-392d785c266f",
   "metadata": {},
   "outputs": [
    {
     "name": "stdout",
     "output_type": "stream",
     "text": [
      "H 大于 W 的数量：621\n",
      "H 等于 W 的数量：2\n",
      "H 小于 W 的数量：382\n",
      "\n",
      "不匹配正则表达式的条目:\n",
      "H x W (image): 32 cm (12 5/8 in)\n",
      "H x W (image): 39.5 cm (15 9/16 in)\n",
      "H x W (image): 39.5 cm (15 9/16 in)\n"
     ]
    }
   ],
   "source": [
    "import pandas as pd\n",
    "import re\n",
    "\n",
    "# 选出 Type 列为 \"Painting\" 的行\n",
    "paintings_df = china_collections_df[china_collections_df['Type'] == 'Painting']\n",
    "\n",
    "# 初始化计数器\n",
    "count_h_greater_w = 0\n",
    "count_h_equal_w = 0\n",
    "count_h_less_w = 0\n",
    "\n",
    "# 初始化列表来存储不匹配正则表达式的条目\n",
    "unmatched_dimensions = []\n",
    "\n",
    "# 遍历 dimension 列下的每个条目\n",
    "for dimension in paintings_df['Dimension']:\n",
    "    # 使用正则表达式匹配 \"H x W\" 后面的内容\n",
    "    match = re.search(r'H [×x] W(?: \\(.*?\\))?:\\s*(\\d+(?:\\.\\d+)?)\\s*[×x]\\s*(\\d+(?:\\.\\d+)?)\\s*cm', dimension)\n",
    "    if match:\n",
    "        h = float(match.group(1))\n",
    "        w = float(match.group(2))\n",
    "        \n",
    "        # 比较 H 和 W，并增加相应的计数器\n",
    "        if h > w:\n",
    "            count_h_greater_w += 1\n",
    "        elif h == w:\n",
    "            count_h_equal_w += 1\n",
    "        else:\n",
    "            count_h_less_w += 1\n",
    "    else:\n",
    "        # 如果不匹配，添加到 unmatched_dimensions 列表\n",
    "        unmatched_dimensions.append(dimension)\n",
    "\n",
    "# 打印结果\n",
    "print(f\"H 大于 W 的数量：{count_h_greater_w}\")\n",
    "print(f\"H 等于 W 的数量：{count_h_equal_w}\")\n",
    "print(f\"H 小于 W 的数量：{count_h_less_w}\")\n",
    "\n",
    "# 打印不匹配正则表达式的条目\n",
    "print(\"\\n不匹配正则表达式的条目:\")\n",
    "for dimension_value in unmatched_dimensions:\n",
    "    print(dimension_value)\n"
   ]
  },
  {
   "cell_type": "code",
   "execution_count": 9,
   "id": "247cd40e-18c9-4028-bced-c7c9d4702a27",
   "metadata": {},
   "outputs": [
    {
     "data": {
      "application/vnd.plotly.v1+json": {
       "config": {
        "plotlyServerURL": "https://plot.ly"
       },
       "data": [
        {
         "hole": 0.3,
         "labels": [
          "H > W",
          "H = W",
          "H < W"
         ],
         "marker": {
          "colors": [
           "#8FB2C9",
           "#F7DA94",
           "#2B73AF"
          ]
         },
         "textfont": {
          "color": "black"
         },
         "textinfo": "percent+label",
         "texttemplate": "%{label}: %{percent:.2%}",
         "type": "pie",
         "values": [
          621,
          2,
          382
         ]
        }
       ],
       "layout": {
        "height": 800,
        "template": {
         "data": {
          "bar": [
           {
            "error_x": {
             "color": "#2a3f5f"
            },
            "error_y": {
             "color": "#2a3f5f"
            },
            "marker": {
             "line": {
              "color": "#E5ECF6",
              "width": 0.5
             },
             "pattern": {
              "fillmode": "overlay",
              "size": 10,
              "solidity": 0.2
             }
            },
            "type": "bar"
           }
          ],
          "barpolar": [
           {
            "marker": {
             "line": {
              "color": "#E5ECF6",
              "width": 0.5
             },
             "pattern": {
              "fillmode": "overlay",
              "size": 10,
              "solidity": 0.2
             }
            },
            "type": "barpolar"
           }
          ],
          "carpet": [
           {
            "aaxis": {
             "endlinecolor": "#2a3f5f",
             "gridcolor": "white",
             "linecolor": "white",
             "minorgridcolor": "white",
             "startlinecolor": "#2a3f5f"
            },
            "baxis": {
             "endlinecolor": "#2a3f5f",
             "gridcolor": "white",
             "linecolor": "white",
             "minorgridcolor": "white",
             "startlinecolor": "#2a3f5f"
            },
            "type": "carpet"
           }
          ],
          "choropleth": [
           {
            "colorbar": {
             "outlinewidth": 0,
             "ticks": ""
            },
            "type": "choropleth"
           }
          ],
          "contour": [
           {
            "colorbar": {
             "outlinewidth": 0,
             "ticks": ""
            },
            "colorscale": [
             [
              0,
              "#0d0887"
             ],
             [
              0.1111111111111111,
              "#46039f"
             ],
             [
              0.2222222222222222,
              "#7201a8"
             ],
             [
              0.3333333333333333,
              "#9c179e"
             ],
             [
              0.4444444444444444,
              "#bd3786"
             ],
             [
              0.5555555555555556,
              "#d8576b"
             ],
             [
              0.6666666666666666,
              "#ed7953"
             ],
             [
              0.7777777777777778,
              "#fb9f3a"
             ],
             [
              0.8888888888888888,
              "#fdca26"
             ],
             [
              1,
              "#f0f921"
             ]
            ],
            "type": "contour"
           }
          ],
          "contourcarpet": [
           {
            "colorbar": {
             "outlinewidth": 0,
             "ticks": ""
            },
            "type": "contourcarpet"
           }
          ],
          "heatmap": [
           {
            "colorbar": {
             "outlinewidth": 0,
             "ticks": ""
            },
            "colorscale": [
             [
              0,
              "#0d0887"
             ],
             [
              0.1111111111111111,
              "#46039f"
             ],
             [
              0.2222222222222222,
              "#7201a8"
             ],
             [
              0.3333333333333333,
              "#9c179e"
             ],
             [
              0.4444444444444444,
              "#bd3786"
             ],
             [
              0.5555555555555556,
              "#d8576b"
             ],
             [
              0.6666666666666666,
              "#ed7953"
             ],
             [
              0.7777777777777778,
              "#fb9f3a"
             ],
             [
              0.8888888888888888,
              "#fdca26"
             ],
             [
              1,
              "#f0f921"
             ]
            ],
            "type": "heatmap"
           }
          ],
          "heatmapgl": [
           {
            "colorbar": {
             "outlinewidth": 0,
             "ticks": ""
            },
            "colorscale": [
             [
              0,
              "#0d0887"
             ],
             [
              0.1111111111111111,
              "#46039f"
             ],
             [
              0.2222222222222222,
              "#7201a8"
             ],
             [
              0.3333333333333333,
              "#9c179e"
             ],
             [
              0.4444444444444444,
              "#bd3786"
             ],
             [
              0.5555555555555556,
              "#d8576b"
             ],
             [
              0.6666666666666666,
              "#ed7953"
             ],
             [
              0.7777777777777778,
              "#fb9f3a"
             ],
             [
              0.8888888888888888,
              "#fdca26"
             ],
             [
              1,
              "#f0f921"
             ]
            ],
            "type": "heatmapgl"
           }
          ],
          "histogram": [
           {
            "marker": {
             "pattern": {
              "fillmode": "overlay",
              "size": 10,
              "solidity": 0.2
             }
            },
            "type": "histogram"
           }
          ],
          "histogram2d": [
           {
            "colorbar": {
             "outlinewidth": 0,
             "ticks": ""
            },
            "colorscale": [
             [
              0,
              "#0d0887"
             ],
             [
              0.1111111111111111,
              "#46039f"
             ],
             [
              0.2222222222222222,
              "#7201a8"
             ],
             [
              0.3333333333333333,
              "#9c179e"
             ],
             [
              0.4444444444444444,
              "#bd3786"
             ],
             [
              0.5555555555555556,
              "#d8576b"
             ],
             [
              0.6666666666666666,
              "#ed7953"
             ],
             [
              0.7777777777777778,
              "#fb9f3a"
             ],
             [
              0.8888888888888888,
              "#fdca26"
             ],
             [
              1,
              "#f0f921"
             ]
            ],
            "type": "histogram2d"
           }
          ],
          "histogram2dcontour": [
           {
            "colorbar": {
             "outlinewidth": 0,
             "ticks": ""
            },
            "colorscale": [
             [
              0,
              "#0d0887"
             ],
             [
              0.1111111111111111,
              "#46039f"
             ],
             [
              0.2222222222222222,
              "#7201a8"
             ],
             [
              0.3333333333333333,
              "#9c179e"
             ],
             [
              0.4444444444444444,
              "#bd3786"
             ],
             [
              0.5555555555555556,
              "#d8576b"
             ],
             [
              0.6666666666666666,
              "#ed7953"
             ],
             [
              0.7777777777777778,
              "#fb9f3a"
             ],
             [
              0.8888888888888888,
              "#fdca26"
             ],
             [
              1,
              "#f0f921"
             ]
            ],
            "type": "histogram2dcontour"
           }
          ],
          "mesh3d": [
           {
            "colorbar": {
             "outlinewidth": 0,
             "ticks": ""
            },
            "type": "mesh3d"
           }
          ],
          "parcoords": [
           {
            "line": {
             "colorbar": {
              "outlinewidth": 0,
              "ticks": ""
             }
            },
            "type": "parcoords"
           }
          ],
          "pie": [
           {
            "automargin": true,
            "type": "pie"
           }
          ],
          "scatter": [
           {
            "fillpattern": {
             "fillmode": "overlay",
             "size": 10,
             "solidity": 0.2
            },
            "type": "scatter"
           }
          ],
          "scatter3d": [
           {
            "line": {
             "colorbar": {
              "outlinewidth": 0,
              "ticks": ""
             }
            },
            "marker": {
             "colorbar": {
              "outlinewidth": 0,
              "ticks": ""
             }
            },
            "type": "scatter3d"
           }
          ],
          "scattercarpet": [
           {
            "marker": {
             "colorbar": {
              "outlinewidth": 0,
              "ticks": ""
             }
            },
            "type": "scattercarpet"
           }
          ],
          "scattergeo": [
           {
            "marker": {
             "colorbar": {
              "outlinewidth": 0,
              "ticks": ""
             }
            },
            "type": "scattergeo"
           }
          ],
          "scattergl": [
           {
            "marker": {
             "colorbar": {
              "outlinewidth": 0,
              "ticks": ""
             }
            },
            "type": "scattergl"
           }
          ],
          "scattermapbox": [
           {
            "marker": {
             "colorbar": {
              "outlinewidth": 0,
              "ticks": ""
             }
            },
            "type": "scattermapbox"
           }
          ],
          "scatterpolar": [
           {
            "marker": {
             "colorbar": {
              "outlinewidth": 0,
              "ticks": ""
             }
            },
            "type": "scatterpolar"
           }
          ],
          "scatterpolargl": [
           {
            "marker": {
             "colorbar": {
              "outlinewidth": 0,
              "ticks": ""
             }
            },
            "type": "scatterpolargl"
           }
          ],
          "scatterternary": [
           {
            "marker": {
             "colorbar": {
              "outlinewidth": 0,
              "ticks": ""
             }
            },
            "type": "scatterternary"
           }
          ],
          "surface": [
           {
            "colorbar": {
             "outlinewidth": 0,
             "ticks": ""
            },
            "colorscale": [
             [
              0,
              "#0d0887"
             ],
             [
              0.1111111111111111,
              "#46039f"
             ],
             [
              0.2222222222222222,
              "#7201a8"
             ],
             [
              0.3333333333333333,
              "#9c179e"
             ],
             [
              0.4444444444444444,
              "#bd3786"
             ],
             [
              0.5555555555555556,
              "#d8576b"
             ],
             [
              0.6666666666666666,
              "#ed7953"
             ],
             [
              0.7777777777777778,
              "#fb9f3a"
             ],
             [
              0.8888888888888888,
              "#fdca26"
             ],
             [
              1,
              "#f0f921"
             ]
            ],
            "type": "surface"
           }
          ],
          "table": [
           {
            "cells": {
             "fill": {
              "color": "#EBF0F8"
             },
             "line": {
              "color": "white"
             }
            },
            "header": {
             "fill": {
              "color": "#C8D4E3"
             },
             "line": {
              "color": "white"
             }
            },
            "type": "table"
           }
          ]
         },
         "layout": {
          "annotationdefaults": {
           "arrowcolor": "#2a3f5f",
           "arrowhead": 0,
           "arrowwidth": 1
          },
          "autotypenumbers": "strict",
          "coloraxis": {
           "colorbar": {
            "outlinewidth": 0,
            "ticks": ""
           }
          },
          "colorscale": {
           "diverging": [
            [
             0,
             "#8e0152"
            ],
            [
             0.1,
             "#c51b7d"
            ],
            [
             0.2,
             "#de77ae"
            ],
            [
             0.3,
             "#f1b6da"
            ],
            [
             0.4,
             "#fde0ef"
            ],
            [
             0.5,
             "#f7f7f7"
            ],
            [
             0.6,
             "#e6f5d0"
            ],
            [
             0.7,
             "#b8e186"
            ],
            [
             0.8,
             "#7fbc41"
            ],
            [
             0.9,
             "#4d9221"
            ],
            [
             1,
             "#276419"
            ]
           ],
           "sequential": [
            [
             0,
             "#0d0887"
            ],
            [
             0.1111111111111111,
             "#46039f"
            ],
            [
             0.2222222222222222,
             "#7201a8"
            ],
            [
             0.3333333333333333,
             "#9c179e"
            ],
            [
             0.4444444444444444,
             "#bd3786"
            ],
            [
             0.5555555555555556,
             "#d8576b"
            ],
            [
             0.6666666666666666,
             "#ed7953"
            ],
            [
             0.7777777777777778,
             "#fb9f3a"
            ],
            [
             0.8888888888888888,
             "#fdca26"
            ],
            [
             1,
             "#f0f921"
            ]
           ],
           "sequentialminus": [
            [
             0,
             "#0d0887"
            ],
            [
             0.1111111111111111,
             "#46039f"
            ],
            [
             0.2222222222222222,
             "#7201a8"
            ],
            [
             0.3333333333333333,
             "#9c179e"
            ],
            [
             0.4444444444444444,
             "#bd3786"
            ],
            [
             0.5555555555555556,
             "#d8576b"
            ],
            [
             0.6666666666666666,
             "#ed7953"
            ],
            [
             0.7777777777777778,
             "#fb9f3a"
            ],
            [
             0.8888888888888888,
             "#fdca26"
            ],
            [
             1,
             "#f0f921"
            ]
           ]
          },
          "colorway": [
           "#636efa",
           "#EF553B",
           "#00cc96",
           "#ab63fa",
           "#FFA15A",
           "#19d3f3",
           "#FF6692",
           "#B6E880",
           "#FF97FF",
           "#FECB52"
          ],
          "font": {
           "color": "#2a3f5f"
          },
          "geo": {
           "bgcolor": "white",
           "lakecolor": "white",
           "landcolor": "#E5ECF6",
           "showlakes": true,
           "showland": true,
           "subunitcolor": "white"
          },
          "hoverlabel": {
           "align": "left"
          },
          "hovermode": "closest",
          "mapbox": {
           "style": "light"
          },
          "paper_bgcolor": "white",
          "plot_bgcolor": "#E5ECF6",
          "polar": {
           "angularaxis": {
            "gridcolor": "white",
            "linecolor": "white",
            "ticks": ""
           },
           "bgcolor": "#E5ECF6",
           "radialaxis": {
            "gridcolor": "white",
            "linecolor": "white",
            "ticks": ""
           }
          },
          "scene": {
           "xaxis": {
            "backgroundcolor": "#E5ECF6",
            "gridcolor": "white",
            "gridwidth": 2,
            "linecolor": "white",
            "showbackground": true,
            "ticks": "",
            "zerolinecolor": "white"
           },
           "yaxis": {
            "backgroundcolor": "#E5ECF6",
            "gridcolor": "white",
            "gridwidth": 2,
            "linecolor": "white",
            "showbackground": true,
            "ticks": "",
            "zerolinecolor": "white"
           },
           "zaxis": {
            "backgroundcolor": "#E5ECF6",
            "gridcolor": "white",
            "gridwidth": 2,
            "linecolor": "white",
            "showbackground": true,
            "ticks": "",
            "zerolinecolor": "white"
           }
          },
          "shapedefaults": {
           "line": {
            "color": "#2a3f5f"
           }
          },
          "ternary": {
           "aaxis": {
            "gridcolor": "white",
            "linecolor": "white",
            "ticks": ""
           },
           "baxis": {
            "gridcolor": "white",
            "linecolor": "white",
            "ticks": ""
           },
           "bgcolor": "#E5ECF6",
           "caxis": {
            "gridcolor": "white",
            "linecolor": "white",
            "ticks": ""
           }
          },
          "title": {
           "x": 0.05
          },
          "xaxis": {
           "automargin": true,
           "gridcolor": "white",
           "linecolor": "white",
           "ticks": "",
           "title": {
            "standoff": 15
           },
           "zerolinecolor": "white",
           "zerolinewidth": 2
          },
          "yaxis": {
           "automargin": true,
           "gridcolor": "white",
           "linecolor": "white",
           "ticks": "",
           "title": {
            "standoff": 15
           },
           "zerolinecolor": "white",
           "zerolinewidth": 2
          }
         }
        },
        "title": {
         "text": "Comparison of Height and Width of Paintings"
        },
        "width": 800
       }
      },
      "image/png": "[encoded data removed]",
      "text/html": [
       "<div>                            <div id=\"b0fd13a9-0ba7-4d25-8abf-3a72d0515582\" class=\"plotly-graph-div\" style=\"height:800px; width:800px;\"></div>            <script type=\"text/javascript\">                require([\"plotly\"], function(Plotly) {                    window.PLOTLYENV=window.PLOTLYENV || {};                                    if (document.getElementById(\"b0fd13a9-0ba7-4d25-8abf-3a72d0515582\")) {                    Plotly.newPlot(                        \"b0fd13a9-0ba7-4d25-8abf-3a72d0515582\",                        [{\"labels\":[\"H > W\",\"H = W\",\"H < W\"],\"values\":[621,2,382],\"type\":\"pie\",\"marker\":{\"colors\":[\"#8FB2C9\",\"#F7DA94\",\"#2B73AF\"]},\"textfont\":{\"color\":\"black\"},\"hole\":0.3,\"textinfo\":\"percent+label\",\"texttemplate\":\"%{label}: %{percent:.2%}\"}],                        {\"template\":{\"data\":{\"histogram2dcontour\":[{\"type\":\"histogram2dcontour\",\"colorbar\":{\"outlinewidth\":0,\"ticks\":\"\"},\"colorscale\":[[0.0,\"#0d0887\"],[0.1111111111111111,\"#46039f\"],[0.2222222222222222,\"#7201a8\"],[0.3333333333333333,\"#9c179e\"],[0.4444444444444444,\"#bd3786\"],[0.5555555555555556,\"#d8576b\"],[0.6666666666666666,\"#ed7953\"],[0.7777777777777778,\"#fb9f3a\"],[0.8888888888888888,\"#fdca26\"],[1.0,\"#f0f921\"]]}],\"choropleth\":[{\"type\":\"choropleth\",\"colorbar\":{\"outlinewidth\":0,\"ticks\":\"\"}}],\"histogram2d\":[{\"type\":\"histogram2d\",\"colorbar\":{\"outlinewidth\":0,\"ticks\":\"\"},\"colorscale\":[[0.0,\"#0d0887\"],[0.1111111111111111,\"#46039f\"],[0.2222222222222222,\"#7201a8\"],[0.3333333333333333,\"#9c179e\"],[0.4444444444444444,\"#bd3786\"],[0.5555555555555556,\"#d8576b\"],[0.6666666666666666,\"#ed7953\"],[0.7777777777777778,\"#fb9f3a\"],[0.8888888888888888,\"#fdca26\"],[1.0,\"#f0f921\"]]}],\"heatmap\":[{\"type\":\"heatmap\",\"colorbar\":{\"outlinewidth\":0,\"ticks\":\"\"},\"colorscale\":[[0.0,\"#0d0887\"],[0.1111111111111111,\"#46039f\"],[0.2222222222222222,\"#7201a8\"],[0.3333333333333333,\"#9c179e\"],[0.4444444444444444,\"#bd3786\"],[0.5555555555555556,\"#d8576b\"],[0.6666666666666666,\"#ed7953\"],[0.7777777777777778,\"#fb9f3a\"],[0.8888888888888888,\"#fdca26\"],[1.0,\"#f0f921\"]]}],\"heatmapgl\":[{\"type\":\"heatmapgl\",\"colorbar\":{\"outlinewidth\":0,\"ticks\":\"\"},\"colorscale\":[[0.0,\"#0d0887\"],[0.1111111111111111,\"#46039f\"],[0.2222222222222222,\"#7201a8\"],[0.3333333333333333,\"#9c179e\"],[0.4444444444444444,\"#bd3786\"],[0.5555555555555556,\"#d8576b\"],[0.6666666666666666,\"#ed7953\"],[0.7777777777777778,\"#fb9f3a\"],[0.8888888888888888,\"#fdca26\"],[1.0,\"#f0f921\"]]}],\"contourcarpet\":[{\"type\":\"contourcarpet\",\"colorbar\":{\"outlinewidth\":0,\"ticks\":\"\"}}],\"contour\":[{\"type\":\"contour\",\"colorbar\":{\"outlinewidth\":0,\"ticks\":\"\"},\"colorscale\":[[0.0,\"#0d0887\"],[0.1111111111111111,\"#46039f\"],[0.2222222222222222,\"#7201a8\"],[0.3333333333333333,\"#9c179e\"],[0.4444444444444444,\"#bd3786\"],[0.5555555555555556,\"#d8576b\"],[0.6666666666666666,\"#ed7953\"],[0.7777777777777778,\"#fb9f3a\"],[0.8888888888888888,\"#fdca26\"],[1.0,\"#f0f921\"]]}],\"surface\":[{\"type\":\"surface\",\"colorbar\":{\"outlinewidth\":0,\"ticks\":\"\"},\"colorscale\":[[0.0,\"#0d0887\"],[0.1111111111111111,\"#46039f\"],[0.2222222222222222,\"#7201a8\"],[0.3333333333333333,\"#9c179e\"],[0.4444444444444444,\"#bd3786\"],[0.5555555555555556,\"#d8576b\"],[0.6666666666666666,\"#ed7953\"],[0.7777777777777778,\"#fb9f3a\"],[0.8888888888888888,\"#fdca26\"],[1.0,\"#f0f921\"]]}],\"mesh3d\":[{\"type\":\"mesh3d\",\"colorbar\":{\"outlinewidth\":0,\"ticks\":\"\"}}],\"scatter\":[{\"fillpattern\":{\"fillmode\":\"overlay\",\"size\":10,\"solidity\":0.2},\"type\":\"scatter\"}],\"parcoords\":[{\"type\":\"parcoords\",\"line\":{\"colorbar\":{\"outlinewidth\":0,\"ticks\":\"\"}}}],\"scatterpolargl\":[{\"type\":\"scatterpolargl\",\"marker\":{\"colorbar\":{\"outlinewidth\":0,\"ticks\":\"\"}}}],\"bar\":[{\"error_x\":{\"color\":\"#2a3f5f\"},\"error_y\":{\"color\":\"#2a3f5f\"},\"marker\":{\"line\":{\"color\":\"#E5ECF6\",\"width\":0.5},\"pattern\":{\"fillmode\":\"overlay\",\"size\":10,\"solidity\":0.2}},\"type\":\"bar\"}],\"scattergeo\":[{\"type\":\"scattergeo\",\"marker\":{\"colorbar\":{\"outlinewidth\":0,\"ticks\":\"\"}}}],\"scatterpolar\":[{\"type\":\"scatterpolar\",\"marker\":{\"colorbar\":{\"outlinewidth\":0,\"ticks\":\"\"}}}],\"histogram\":[{\"marker\":{\"pattern\":{\"fillmode\":\"overlay\",\"size\":10,\"solidity\":0.2}},\"type\":\"histogram\"}],\"scattergl\":[{\"type\":\"scattergl\",\"marker\":{\"colorbar\":{\"outlinewidth\":0,\"ticks\":\"\"}}}],\"scatter3d\":[{\"type\":\"scatter3d\",\"line\":{\"colorbar\":{\"outlinewidth\":0,\"ticks\":\"\"}},\"marker\":{\"colorbar\":{\"outlinewidth\":0,\"ticks\":\"\"}}}],\"scattermapbox\":[{\"type\":\"scattermapbox\",\"marker\":{\"colorbar\":{\"outlinewidth\":0,\"ticks\":\"\"}}}],\"scatterternary\":[{\"type\":\"scatterternary\",\"marker\":{\"colorbar\":{\"outlinewidth\":0,\"ticks\":\"\"}}}],\"scattercarpet\":[{\"type\":\"scattercarpet\",\"marker\":{\"colorbar\":{\"outlinewidth\":0,\"ticks\":\"\"}}}],\"carpet\":[{\"aaxis\":{\"endlinecolor\":\"#2a3f5f\",\"gridcolor\":\"white\",\"linecolor\":\"white\",\"minorgridcolor\":\"white\",\"startlinecolor\":\"#2a3f5f\"},\"baxis\":{\"endlinecolor\":\"#2a3f5f\",\"gridcolor\":\"white\",\"linecolor\":\"white\",\"minorgridcolor\":\"white\",\"startlinecolor\":\"#2a3f5f\"},\"type\":\"carpet\"}],\"table\":[{\"cells\":{\"fill\":{\"color\":\"#EBF0F8\"},\"line\":{\"color\":\"white\"}},\"header\":{\"fill\":{\"color\":\"#C8D4E3\"},\"line\":{\"color\":\"white\"}},\"type\":\"table\"}],\"barpolar\":[{\"marker\":{\"line\":{\"color\":\"#E5ECF6\",\"width\":0.5},\"pattern\":{\"fillmode\":\"overlay\",\"size\":10,\"solidity\":0.2}},\"type\":\"barpolar\"}],\"pie\":[{\"automargin\":true,\"type\":\"pie\"}]},\"layout\":{\"autotypenumbers\":\"strict\",\"colorway\":[\"#636efa\",\"#EF553B\",\"#00cc96\",\"#ab63fa\",\"#FFA15A\",\"#19d3f3\",\"#FF6692\",\"#B6E880\",\"#FF97FF\",\"#FECB52\"],\"font\":{\"color\":\"#2a3f5f\"},\"hovermode\":\"closest\",\"hoverlabel\":{\"align\":\"left\"},\"paper_bgcolor\":\"white\",\"plot_bgcolor\":\"#E5ECF6\",\"polar\":{\"bgcolor\":\"#E5ECF6\",\"angularaxis\":{\"gridcolor\":\"white\",\"linecolor\":\"white\",\"ticks\":\"\"},\"radialaxis\":{\"gridcolor\":\"white\",\"linecolor\":\"white\",\"ticks\":\"\"}},\"ternary\":{\"bgcolor\":\"#E5ECF6\",\"aaxis\":{\"gridcolor\":\"white\",\"linecolor\":\"white\",\"ticks\":\"\"},\"baxis\":{\"gridcolor\":\"white\",\"linecolor\":\"white\",\"ticks\":\"\"},\"caxis\":{\"gridcolor\":\"white\",\"linecolor\":\"white\",\"ticks\":\"\"}},\"coloraxis\":{\"colorbar\":{\"outlinewidth\":0,\"ticks\":\"\"}},\"colorscale\":{\"sequential\":[[0.0,\"#0d0887\"],[0.1111111111111111,\"#46039f\"],[0.2222222222222222,\"#7201a8\"],[0.3333333333333333,\"#9c179e\"],[0.4444444444444444,\"#bd3786\"],[0.5555555555555556,\"#d8576b\"],[0.6666666666666666,\"#ed7953\"],[0.7777777777777778,\"#fb9f3a\"],[0.8888888888888888,\"#fdca26\"],[1.0,\"#f0f921\"]],\"sequentialminus\":[[0.0,\"#0d0887\"],[0.1111111111111111,\"#46039f\"],[0.2222222222222222,\"#7201a8\"],[0.3333333333333333,\"#9c179e\"],[0.4444444444444444,\"#bd3786\"],[0.5555555555555556,\"#d8576b\"],[0.6666666666666666,\"#ed7953\"],[0.7777777777777778,\"#fb9f3a\"],[0.8888888888888888,\"#fdca26\"],[1.0,\"#f0f921\"]],\"diverging\":[[0,\"#8e0152\"],[0.1,\"#c51b7d\"],[0.2,\"#de77ae\"],[0.3,\"#f1b6da\"],[0.4,\"#fde0ef\"],[0.5,\"#f7f7f7\"],[0.6,\"#e6f5d0\"],[0.7,\"#b8e186\"],[0.8,\"#7fbc41\"],[0.9,\"#4d9221\"],[1,\"#276419\"]]},\"xaxis\":{\"gridcolor\":\"white\",\"linecolor\":\"white\",\"ticks\":\"\",\"title\":{\"standoff\":15},\"zerolinecolor\":\"white\",\"automargin\":true,\"zerolinewidth\":2},\"yaxis\":{\"gridcolor\":\"white\",\"linecolor\":\"white\",\"ticks\":\"\",\"title\":{\"standoff\":15},\"zerolinecolor\":\"white\",\"automargin\":true,\"zerolinewidth\":2},\"scene\":{\"xaxis\":{\"backgroundcolor\":\"#E5ECF6\",\"gridcolor\":\"white\",\"linecolor\":\"white\",\"showbackground\":true,\"ticks\":\"\",\"zerolinecolor\":\"white\",\"gridwidth\":2},\"yaxis\":{\"backgroundcolor\":\"#E5ECF6\",\"gridcolor\":\"white\",\"linecolor\":\"white\",\"showbackground\":true,\"ticks\":\"\",\"zerolinecolor\":\"white\",\"gridwidth\":2},\"zaxis\":{\"backgroundcolor\":\"#E5ECF6\",\"gridcolor\":\"white\",\"linecolor\":\"white\",\"showbackground\":true,\"ticks\":\"\",\"zerolinecolor\":\"white\",\"gridwidth\":2}},\"shapedefaults\":{\"line\":{\"color\":\"#2a3f5f\"}},\"annotationdefaults\":{\"arrowcolor\":\"#2a3f5f\",\"arrowhead\":0,\"arrowwidth\":1},\"geo\":{\"bgcolor\":\"white\",\"landcolor\":\"#E5ECF6\",\"subunitcolor\":\"white\",\"showland\":true,\"showlakes\":true,\"lakecolor\":\"white\"},\"title\":{\"x\":0.05},\"mapbox\":{\"style\":\"light\"}}},\"title\":{\"text\":\"Comparison of Height and Width of Paintings\"},\"height\":800,\"width\":800},                        {\"responsive\": true}                    ).then(function(){\n",
       "                            \n",
       "var gd = document.getElementById('b0fd13a9-0ba7-4d25-8abf-3a72d0515582');\n",
       "var x = new MutationObserver(function (mutations, observer) {{\n",
       "        var display = window.getComputedStyle(gd).display;\n",
       "        if (!display || display === 'none') {{\n",
       "            console.log([gd, 'removed!']);\n",
       "            Plotly.purge(gd);\n",
       "            observer.disconnect();\n",
       "        }}\n",
       "}});\n",
       "\n",
       "// Listen for the removal of the full notebook cells\n",
       "var notebookContainer = gd.closest('#notebook-container');\n",
       "if (notebookContainer) {{\n",
       "    x.observe(notebookContainer, {childList: true});\n",
       "}}\n",
       "\n",
       "// Listen for the clearing of the current output cell\n",
       "var outputEl = gd.closest('.output');\n",
       "if (outputEl) {{\n",
       "    x.observe(outputEl, {childList: true});\n",
       "}}\n",
       "\n",
       "                        })                };                });            </script>        </div>"
      ]
     },
     "metadata": {},
     "output_type": "display_data"
    }
   ],
   "source": [
    "import plotly.graph_objects as go\n",
    "\n",
    "# 创建饼图数据\n",
    "labels = ['H > W', 'H = W', 'H < W']\n",
    "values = [count_h_greater_w, count_h_equal_w, count_h_less_w]\n",
    "\n",
    "# 绘制饼图\n",
    "fig = go.Figure(data=[go.Pie(labels=labels, values=values)])\n",
    "\n",
    "# 自定义饼图的颜色、文本信息等\n",
    "fig.update_traces(\n",
    "    marker=dict(colors=['#8FB2C9','#F7DA94','#2B73AF']),\n",
    "    textinfo='percent+label',\n",
    "    textfont=dict(color='black'),\n",
    "    hole=0.3,\n",
    "    texttemplate='%{label}: %{percent:.2%}'\n",
    ")\n",
    "\n",
    "# 更新布局\n",
    "fig.update_layout(\n",
    "    title='Comparison of Height and Width of Paintings',\n",
    "    height=800, \n",
    "    width=800\n",
    ")\n",
    "\n",
    "# 显示图表\n",
    "fig.show()"
   ]
  },
  {
   "cell_type": "code",
   "execution_count": null,
   "id": "4cd509ff-c01d-454a-97f4-45ff67947bed",
   "metadata": {},
   "outputs": [],
   "source": []
  },
  {
   "cell_type": "code",
   "execution_count": null,
   "id": "b62529df-3902-4d65-b295-68ab4083f4b0",
   "metadata": {},
   "outputs": [],
   "source": []
  },
  {
   "cell_type": "code",
   "execution_count": null,
   "id": "5fbc4ae1-37ab-4a6c-9ea4-b0f51bb339ba",
   "metadata": {},
   "outputs": [],
   "source": []
  }
 ],
 "metadata": {
  "kernelspec": {
   "display_name": "Python 3 (ipykernel)",
   "language": "python",
   "name": "python3"
  },
  "language_info": {
   "codemirror_mode": {
    "name": "ipython",
    "version": 3
   },
   "file_extension": ".py",
   "mimetype": "text/x-python",
   "name": "python",
   "nbconvert_exporter": "python",
   "pygments_lexer": "ipython3",
   "version": "3.11.7"
  }
 },
 "nbformat": 4,
 "nbformat_minor": 5
}
